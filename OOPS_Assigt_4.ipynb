{
  "nbformat": 4,
  "nbformat_minor": 0,
  "metadata": {
    "colab": {
      "provenance": []
    },
    "kernelspec": {
      "name": "python3",
      "display_name": "Python 3"
    },
    "language_info": {
      "name": "python"
    }
  },
  "cells": [
    {
      "cell_type": "markdown",
      "source": [
        "##Assignment-4\n",
        "\n",
        "###OOPS"
      ],
      "metadata": {
        "id": "1IwZUaiJJnav"
      }
    },
    {
      "cell_type": "markdown",
      "source": [
        "Q1. What is Object-Oriented Programming (OOP)?\n",
        "\n",
        "A1. Object oriented programming is a programming structure that uses objects and classes to organise and structure code. OOPs creates reuseable and modular components by bundling data with attributes and methods(functions) into objects. It makes the coding scalable and maintainable in Python.\n",
        "\n",
        "\n",
        "---\n",
        "\n",
        "Q2.\tWhat is a class in OOP?\n",
        "\n",
        "A2.Class can be defined as the blueprint or orginal template for creating objects. The class is user defined and combines methods and data members into a single entity.\n",
        "\n",
        "---\n",
        "\n",
        "Q3.\tWhat is an object in OOP?\n",
        "\n",
        "A3. An instance of the class is called as an object. It represents a specific realization of the class blueprint. It consists of methods and attributes. Objects have 2 qualities- they exhibit actions and states. Methods showcases its behaviour and attributes showcases its states.\n",
        "\n",
        "\n",
        "---\n",
        "\n",
        "\n",
        "\n",
        "Q4.\tWhat is the difference between abstraction and encapsulation?\n",
        "\n",
        "A4. Abstraction is the process of hiding unnecessary details and exposing only the essential features of an object or a system. It is achieved through abstract classes and methods.Defines a contract or blueprint for subclasses or implementations.         \n",
        "\n",
        "Encapsulation is the process of bundling data (attributes) and methods that operate on the data into a single unit. It also involves restricting direct access to some components of an object, usually through access modifiers (e.g., private, protected).\n",
        "\n",
        "\n",
        "---\n",
        "\n",
        "\n",
        "Q5.\tWhat are dunder methods in Python?\n",
        "\n",
        "A5. Dunder methhods or special methods or magic methods are bascially methods with surrounded double undescore. These methods allow you to define how instances of classes behave when they are used with built-in python functions or operators.Dunder methods associated with integer can be got with dir(int) and associated with string dir(str).Also, to implement operator overloading in python\n",
        "Example:- _ _ int _ _, _ _ add _ _ , etc.\n",
        "\n",
        "\n",
        "---\n",
        "\n",
        "\n",
        "Q6.\tExplain the concept of inheritance in OOP.\n",
        "\n",
        "A6. Inheritance in OOP signifies a process where the child class receives the parent class properties. The main goal is to reuse code rather than developing from scratch for a new class.  \n",
        "Syntax-   \n",
        "class BaseClass:      \n",
        "      body of base class    \n",
        "class DerivedClass(BaseClass):    \n",
        "      body of derived class   \n",
        "There different types of inheritance- Single, multiple, multi- level, hierarchical and  hybrid inheritance.\n",
        "\n",
        "---\n",
        "\n",
        "\n",
        "Q7.\tWhat is polymorphism in OOP?\n",
        "\n",
        "A7. Polymorphism in OOP, refers to the capacity of an object to assume several forms. Polymorphism enables us to carry out a single activity in a variety of ways. Poly means many and morph means forms. In python, polymorphsim is acheieved by method overloading and method overriding. Inheritance is the primary application of polymorphism.\n",
        "\n",
        "\n",
        "---\n",
        "\n",
        "\n",
        "Q8.\tHow is encapsulation achieved in Python?\n",
        "\n",
        "A8. Encapsulation in Python, is a technique for combining data and functions into a single object. Encapsulation refers to the concealment of the objects internal representation from outside its specification. The public members are accessible from outside the class, private members(represented by double underscore) are accessible within the class and protected members (represented by single doublescore) are within its class and subclass.\n",
        "\n",
        "\n",
        "---\n",
        "\n",
        "\n",
        "\n",
        "\n"
      ],
      "metadata": {
        "id": "4bGv7bcdJ0YH"
      }
    },
    {
      "cell_type": "code",
      "source": [
        "#Q9.\tWhat is a constructor in Python?\n",
        "\n",
        "#A9. A constructor is a method that is used to in OOP to generate and initialise an object of a class.\n",
        "#When a object is created, the constructor is automatically run.\n",
        "#Syntax of a constructor-\n",
        "#def _ _init__(self):\n",
        "   #body of constructor\n",
        "#Types of Constructor- default, non-parametrized and parametrized constructor"
      ],
      "metadata": {
        "id": "i-xj5s-cV2Sn"
      },
      "execution_count": null,
      "outputs": []
    },
    {
      "cell_type": "code",
      "source": [
        "#a. Default constructor- When no constructor is defined, python will provide default constructor.\n",
        "\n",
        "class Person:\n",
        "  def display(self):\n",
        "    print(\"this is display\")\n",
        "\n",
        "man= Person()\n",
        "man.display()\n"
      ],
      "metadata": {
        "colab": {
          "base_uri": "https://localhost:8080/"
        },
        "id": "g0_xnpLvWB0f",
        "outputId": "d2e489e0-6976-4384-e1d2-a09e5edd0d1f"
      },
      "execution_count": null,
      "outputs": [
        {
          "output_type": "stream",
          "name": "stdout",
          "text": [
            "this is display\n"
          ]
        }
      ]
    },
    {
      "cell_type": "code",
      "source": [
        "#b. Non-parametrized Constructor- When no parameters are taken in the constructor\n",
        "\n",
        "class Person:\n",
        "   def __init__(self):\n",
        "    self.name= \"Aruna\"\n",
        "    self.city= \"Mumbai\"\n",
        "\n",
        "   def show(self):\n",
        "    return f\"I am {self.name} and I am from {self.city}\"\n",
        "\n",
        "p1=Person()\n",
        "p1.show()\n",
        "\n"
      ],
      "metadata": {
        "colab": {
          "base_uri": "https://localhost:8080/",
          "height": 35
        },
        "id": "9JCkMX4GWb2P",
        "outputId": "693d4247-aeea-4b33-f928-730ff9a7d17f"
      },
      "execution_count": null,
      "outputs": [
        {
          "output_type": "execute_result",
          "data": {
            "text/plain": [
              "'I am Aruna and I am from Mumbai'"
            ],
            "application/vnd.google.colaboratory.intrinsic+json": {
              "type": "string"
            }
          },
          "metadata": {},
          "execution_count": 62
        }
      ]
    },
    {
      "cell_type": "code",
      "source": [
        "#c. parametrized Constructor- When specific parameters are taken in the constructor\n",
        "\n",
        "class Person:\n",
        "   def __init__(self,name,city):\n",
        "    self.name= name\n",
        "    self.city= city\n",
        "\n",
        "   def show(self):\n",
        "    return f\"I am {self.name} and I am from {self.city}\"\n",
        "\n",
        "p1=Person(\"Arun\",\"Delhi\")\n",
        "p1.show()"
      ],
      "metadata": {
        "colab": {
          "base_uri": "https://localhost:8080/",
          "height": 35
        },
        "id": "TYDniefrXX1m",
        "outputId": "543fb14c-13ae-41f6-a99f-4498fe06e023"
      },
      "execution_count": null,
      "outputs": [
        {
          "output_type": "execute_result",
          "data": {
            "text/plain": [
              "'I am Arun and I am from Delhi'"
            ],
            "application/vnd.google.colaboratory.intrinsic+json": {
              "type": "string"
            }
          },
          "metadata": {},
          "execution_count": 64
        }
      ]
    },
    {
      "cell_type": "markdown",
      "source": [
        "---\n",
        "\n",
        "Q10.\tWhat are class and static methods in Python?\n",
        "\n",
        "A10. Class methods belongs to the class rather than an instance of the class and can access or modify the class state (class variables). Class methods are bound to the class and uses cls as the first argument instead of self. It uses @classmethod decorator and applies to all the instances of the class.\n",
        "\n",
        "Static methods does not require access to instance(self) or class(cls) and can only access parameters passed to them.Static methods are defined using the @staticmethod decorator.\n",
        "\n",
        "\n",
        "\n",
        "---\n",
        "\n",
        "\n",
        "Q11.\tWhat is method overloading in Python?\n",
        "\n",
        "A11. One of the ways to achieve polymorphism in Python is through method overloading. In method overloading, we invoke the same method more than once with different parameters. Method overloading is not supported by Python. Python will take into account the most recent method. I you overload a method , type error is raised in python.\n",
        "Example-  \n",
        "def mul(x,y):   \n",
        "   return x*y     \n",
        "def mul(p,q,r):   \n",
        "  return p*q*r\n",
        "#####Output-\n",
        "   mul(5,6)- error  \n",
        "   mul(1,2,3) - will give an output\n",
        "\n",
        "\n",
        "\n",
        "---\n",
        "\n",
        "\n",
        "Q12.\tWhat is method overriding in OOP?\n",
        "\n",
        "A12. Another way to do polymorphsim in Python is through method overriding. Method in parent and child class with same signature, child class method will override the parent class. The subclass or child class method can alter or expand the functionality of the inherited method.  \n",
        "Example-  \n",
        "class Animal:   \n",
        "  def sound(self):  \n",
        "    print(\"Animal Sound\")   \n",
        "\n",
        "class Cat(Animal):    \n",
        "  def sound(self):  \n",
        "    print(\"meow\")\n",
        "\n",
        "\n",
        " c1=Animal()  \n",
        " c2= Cat()    \n",
        " c1.sound() #output- Animal Sound   \n",
        " c2.sound() #output- meow #override the parent class method\n",
        "\n",
        "\n",
        "---\n",
        "\n",
        "Q13.What is a property decorator in Python?\n",
        "\n",
        "A13. In Python, the @property decorator is used to create getter, setter, and deleter methods in a class. This allows you to define methods that act like attributes, making code cleaner and more intuitive.\n",
        "Getter(@property)- turns a method into a \"getter,\" allowing you to access it like an attribute.Setter (@property_name.setter)-to define a method that sets the value of the property. Deleter (@property_name.deleter)- defines a method to delete the property.\n",
        "\n",
        "\n",
        "\n",
        "\n",
        "---\n",
        "\n",
        "\n",
        "\n",
        "Q14.\tWhy is polymorphism important in OOP?\n",
        "\n",
        "A14. Polymorphism in OOP, refers to the capacity of an object to assume several forms. Polymorphism enables us to carry out a single activity in a variety of ways. Poly means many and morph means forms. In python, polymorphsim is acheieved by method overloading and method overriding. It is important, as polymorphism allows you to use a single method or function name to perform different tasks. Polymorphism enables simplified code structures, supports extending code without altering existing functionality.\n",
        "\n",
        "\n",
        "---\n",
        "\n",
        "\n",
        "Q15.\tWhat is an abstract class in Python?\n",
        "\n",
        "A15. Abstract class is used in python to hide the complex implementations. Abstract classes can not be instantiated and must be subclassed. They may contain abstract methods that are declared but not implemented in the abstract class itself. Subclasses are reponsible for implementing these abstract mehods. Also, we have to import from abc module to declare the abstract module, ABC for abstract class and use @abstractmethod to establish it is an abstract method.\n",
        "\n",
        "\n",
        "\n",
        "\n",
        "---\n",
        "\n",
        "\n",
        "Q16.\tWhat are the advantages of OOP?\n",
        "\n",
        "A16. Firstly, modularity- OOPs organises codes into classes and objects, allowing for modular development. Secondly, reusability with inheritance classes can be extended and methods can be used again. Thirdly, scalability and maintainability, you can use decorators to extend or modify there features. Abstraction can be done to hide unneeded parts and showing casing only the essential parts. Encapsulation, is a technique of combining data and functions into a single object or concealment of an objects internal representation- done by making members public, private and protected. OOPs allows for polymorphism, which means objects of different classes can be treated as objects of a common superclass.\n",
        "\n",
        "\n",
        "---\n",
        "\n"
      ],
      "metadata": {
        "id": "YWxsq5GvKf-3"
      }
    },
    {
      "cell_type": "markdown",
      "source": [
        "\n",
        "Q17.\tWhat is the difference between a class variable and an instance variable?\n",
        "\n",
        "A17.Class Variable is a variable declared inside the class but outside of instance method or init() method and shared by all the instances of the class.If the class variable is modified through the class name, the change will be reflected in all instances unless the variable is overridden at the instance level.\n",
        "\n",
        "An instance variable is a variable that is tied to a specific instance (object) of a class. Instance variable is that are created in the class instance or init() method and is prefixed with self to indicate that it belongs to a particular instance.\n",
        "\n",
        "\n",
        "---\n",
        "\n",
        "\n",
        "Q18.\tWhat is multiple inheritance in Python?\n",
        "\n",
        "A18. Multiple inheritance is when a child class has more than one parent from where it inherits.  \n",
        "Example-  \n",
        "class Parentclass1:   \n",
        "  def method1(self):    \n",
        "    print(\"Method 1 from parentclass1\")   \n",
        "class Parentclass2:   \n",
        "  def method2(self):    \n",
        "    print(\"Method 2 from parentclass2\")   \n",
        "class Childclass(Parentclass1,Parentclass2):   \n",
        "  def method3(self):    \n",
        "    print(\"Method 3 from childclass\")     \n",
        "Output-   \n",
        "child= Childclass()     \n",
        "child.method1()   \n",
        "child.method2()   \n",
        "child.method3()\n",
        "\n",
        "\n",
        "\n",
        "\n",
        "---\n",
        "\n",
        "\n",
        "Q19.\tExplain the purpose of '_ _ str_ _ ' and ' _ _ repr_ _ ' methods in Python.\n",
        "\n",
        "A19. _ _ str_ _ (self): method is called when the str() function is called on an object of the class. It returns a string representation of the object.   \n",
        "Example-  \n",
        "class Myclass:  \n",
        " def _ _ init _ _(self,x):  \n",
        "   self.x = x\n",
        "\n",
        " def _ _ str _ _ (self):  \n",
        "  return f\"{self.x}\"\n",
        "\n",
        "obj= Myclass(3)   \n",
        "print(str(obj))\n",
        "\n",
        "_ _ (repr) _ _ (self): method is called when repr() function is called on the instance of the class. It provides a clear representation of the object.\n",
        "Example-  \n",
        "class Myclass:  \n",
        " def _ _ init _ _(self,x):  \n",
        "   self.x = x\n",
        "\n",
        " def _ _ repr _ _ (self):  \n",
        "  return f\"{self.x}\"\n",
        "\n",
        "obj= Myclass(3)   \n",
        "print(repr(obj))\n",
        "\n",
        "\n",
        "\n",
        "\n",
        "\n",
        "---\n",
        "\n",
        "\n",
        "Q20.\tWhat is the significance of the 'super()' function in Python?\n",
        "\n",
        "A20.The super() function is used to call methods or constructor fromm parent class to within the child class. In a multiple inheritance setup, super() ensures that the method resolution order (MRO) is followed, which determines the sequence in which classes are searched for methods.     \n",
        "Example-    \n",
        "class Parent:   \n",
        "    def _ _ init _ _ (self, name):   \n",
        "        self.name = name    \n",
        "        print(\"Parent class constructor\")\n",
        "\n",
        "class Child(Parent):    \n",
        "    def _ _ init _ _ (self, name, age):    \n",
        "        super(). _ _ init _ _ (name)  # Call Parent's constructor   \n",
        "        self.age = age    \n",
        "        print(\"Child class constructor\")    \n",
        "\n",
        "obj = Child(\"ajay\", 25)\n",
        "\n",
        "\n",
        "---\n",
        "\n",
        "\n",
        "Q21.\tWhat is the significance of the _ _ del _ _ method in Python?\n",
        "\n",
        "A21. The _ _ del _ _ method in Python,is a special method, also known as a destructor, that is called when an object is about to be destroyed. It is typically used for cleanup actions, such as releasing resources or closing files, when the object is no longer in use.\n",
        "\n",
        "\n",
        "---\n",
        "\n",
        "\n",
        "Q22.\tWhat is the difference between @staticmethod and @classmethod in Python?\n",
        "\n",
        "A22. A class method is defined using @classmethod decorator and uses cls as the first parameter instead of self in the method. Can access or modify class level attributes or methods via cls. @staticmethod has no special first parameter as self or cls. It is used when a method that does not need access to class or instance state and behaves like regular function.\n",
        "\n",
        "\n",
        "---\n",
        "\n",
        "\n",
        "Q23.\tHow does polymorphism work in Python with inheritance?\n",
        "\n",
        "A23. In Python, polymorphism works with inheritance by allowing a child class to define a method with the same name as a method in its parent class, but with a different implementation. This enables objects of different classes to respond to the same method in different ways. This is also know as method overriding. The child class can then extend or modify the functionality of the method, if it wants.\n",
        "Example-  \n",
        "class Animal:   \n",
        "  def sound(self):  \n",
        "    print(\"Animal Sound\")   \n",
        "\n",
        "class Cat(Animal):    \n",
        "  def sound(self):  \n",
        "    print(\"meow\")\n",
        "\n",
        "\n",
        " c1=Animal()  \n",
        " c2= Cat()    \n",
        " c1.sound() #output- Animal Sound   \n",
        " c2.sound() #output- meow #override the parent class method\n",
        "\n",
        "\n",
        "---\n",
        "\n",
        "\n",
        "Q24.\tWhat is method chaining in Python OOP?\n",
        "\n",
        "A24.Method chaining in Python OOP refers to the practice of calling multiple methods on the same object in a single statement, by having each method return the object itself (or another object). This technique makes the code concise and readable.\n",
        "\n",
        "\n",
        "---\n",
        "\n",
        "\n",
        "Q25.\tWhat is the purpose of the _ _call_ _ \tmethod in Python?\n",
        "\n",
        "A25. The _ _call_ _ method in Python is a special method that allows an instance of a class to be invoked as if it were a function. By defining the _ _call_ _ method in a class, you make its objects callable. This can be useful for various purposes, such as implementing a function-like behavior, customizing instance behavior, or creating decorators.\n",
        "\n",
        "\n",
        "---\n",
        "\n"
      ],
      "metadata": {
        "id": "52MpworIJ5n4"
      }
    },
    {
      "cell_type": "code",
      "execution_count": null,
      "metadata": {
        "id": "c4Q8xWQdJgp8"
      },
      "outputs": [],
      "source": [
        "#Practical Questions\n",
        "#1.\tCreate a parent class Animal with a method speak() that prints a generic message.\n",
        "#Create a child class Dog that overrides the speak() method to print \"Bark!\"."
      ]
    },
    {
      "cell_type": "code",
      "source": [
        "class Animal:\n",
        "  def speak(self):\n",
        "    print(\"hello, I am an animal\")\n",
        "class Dog(Animal):\n",
        "  def speak(self):\n",
        "    print(\"Bark!\")"
      ],
      "metadata": {
        "id": "Pgqj0u__v9Oz"
      },
      "execution_count": 105,
      "outputs": []
    },
    {
      "cell_type": "code",
      "source": [
        "a1= Animal()\n",
        "a1.speak()"
      ],
      "metadata": {
        "colab": {
          "base_uri": "https://localhost:8080/"
        },
        "id": "QucDEbr_v9aI",
        "outputId": "df5699df-0aa2-4613-8390-379b30c45037"
      },
      "execution_count": 106,
      "outputs": [
        {
          "output_type": "stream",
          "name": "stdout",
          "text": [
            "hello, I am an animal\n"
          ]
        }
      ]
    },
    {
      "cell_type": "code",
      "source": [
        "d1= Dog()\n",
        "d1.speak()"
      ],
      "metadata": {
        "colab": {
          "base_uri": "https://localhost:8080/"
        },
        "id": "vu-ib5Rowm-S",
        "outputId": "621da3cf-9b6e-498d-f677-f70c8655fa81"
      },
      "execution_count": 107,
      "outputs": [
        {
          "output_type": "stream",
          "name": "stdout",
          "text": [
            "Bark!\n"
          ]
        }
      ]
    },
    {
      "cell_type": "code",
      "source": [
        "#2.\tWrite a program to create an abstract class Shape with a method area().\n",
        "#Derive classes Circle and Rectangle from it and implement the area() method in both."
      ],
      "metadata": {
        "id": "XOGezVReJnCA"
      },
      "execution_count": null,
      "outputs": []
    },
    {
      "cell_type": "code",
      "source": [
        "from abc import ABC,abstractmethod\n",
        "\n",
        "class Shape(ABC):\n",
        "  @abstractmethod\n",
        "  def area(self):\n",
        "    pass\n",
        "\n",
        "class Circle(Shape):\n",
        "  def __init__(self,radius):\n",
        "    self.radius=radius\n",
        "\n",
        "  def area(self):\n",
        "     return f\"Area of circle is {3.14*self.radius**2}\"\n",
        "\n",
        "class Rectangle(Shape):\n",
        "  def __init__(self, length,breadth):\n",
        "    self.length=length\n",
        "    self.breadth=breadth\n",
        "\n",
        "  def area(self):\n",
        "    return f\"Area of rectangle is {self.length*self.breadth}\""
      ],
      "metadata": {
        "id": "OFdjQlBzwuvi"
      },
      "execution_count": 108,
      "outputs": []
    },
    {
      "cell_type": "code",
      "source": [
        "circle= Circle(4)\n",
        "circle.area()"
      ],
      "metadata": {
        "colab": {
          "base_uri": "https://localhost:8080/",
          "height": 35
        },
        "id": "unV3jXxGwu1o",
        "outputId": "ec3b9297-f966-43cd-e0af-c0ff8f9e20f5"
      },
      "execution_count": 109,
      "outputs": [
        {
          "output_type": "execute_result",
          "data": {
            "text/plain": [
              "'Area of circle is 50.24'"
            ],
            "application/vnd.google.colaboratory.intrinsic+json": {
              "type": "string"
            }
          },
          "metadata": {},
          "execution_count": 109
        }
      ]
    },
    {
      "cell_type": "code",
      "source": [
        "rec= Rectangle(3,4)\n",
        "rec.area()"
      ],
      "metadata": {
        "colab": {
          "base_uri": "https://localhost:8080/",
          "height": 35
        },
        "id": "OiS9gcNeb-he",
        "outputId": "f4045e2a-897a-4fe3-facc-c7ea56175ea8"
      },
      "execution_count": 110,
      "outputs": [
        {
          "output_type": "execute_result",
          "data": {
            "text/plain": [
              "'Area of rectangle is 12'"
            ],
            "application/vnd.google.colaboratory.intrinsic+json": {
              "type": "string"
            }
          },
          "metadata": {},
          "execution_count": 110
        }
      ]
    },
    {
      "cell_type": "code",
      "source": [
        "#Q3 &Q4.\tImplement a multi-level inheritance scenario where a class Vehicle has an attribute type.\n",
        "#Derive a class Car and further derive a class ElectricCar that adds a battery attribute. (question 3 and 4 are same)\n",
        "\n",
        "class Vehicle:\n",
        "  def __init__(self,type):\n",
        "    self.type= type\n",
        "\n",
        "class Car(Vehicle):\n",
        "    def __init__(self, type, brand):\n",
        "        super().__init__(type)\n",
        "        self.brand = brand\n",
        "\n",
        "class ElectricCar(Car):\n",
        "    def __init__(self,type, brand, battery_size):\n",
        "        super().__init__(type, brand)\n",
        "        self.battery_size = battery_size"
      ],
      "metadata": {
        "id": "RbsnyytoMG4_"
      },
      "execution_count": 111,
      "outputs": []
    },
    {
      "cell_type": "code",
      "source": [
        "vehicle = Vehicle('Truck')\n",
        "car = Car('Toyota', 'Corolla')\n",
        "electric_car = ElectricCar('Electric Car', 'Tesla', '100 kWh')\n",
        "\n",
        "print(f\"Vehicle Type: {vehicle.type}\")\n",
        "print(f\"Car Type: {car.type}, Brand: {car.brand}\")\n",
        "print(f\"Electric Car Type: {electric_car.type}, Brand: {electric_car.brand}, Battery: {electric_car.battery_size}\")"
      ],
      "metadata": {
        "colab": {
          "base_uri": "https://localhost:8080/"
        },
        "id": "sxHAtz3UTkld",
        "outputId": "1e1f4178-44a5-4560-87d2-6fff6c79dea9"
      },
      "execution_count": 112,
      "outputs": [
        {
          "output_type": "stream",
          "name": "stdout",
          "text": [
            "Vehicle Type: Truck\n",
            "Car Type: Toyota, Brand: Corolla\n",
            "Electric Car Type: Electric Car, Brand: Tesla, Battery: 100 kWh\n"
          ]
        }
      ]
    },
    {
      "cell_type": "code",
      "source": [
        "#5.\tWrite a program to demonstrate encapsulation by creating a class BankAccount,\n",
        "# with private attributes balance and methods to deposit, withdraw, and check balance.\n",
        "\n",
        "class BankAccount:\n",
        "  def __init__(self,balance):\n",
        "    self.__balance= balance\n",
        "\n",
        "  def check_balance(self):\n",
        "    return f\"The balance in my acount is :{self.__balance}\"\n",
        "\n",
        "  def deposit(self,amount):\n",
        "     self.__balance= self.__balance + amount\n",
        "\n",
        "  def withdraw(self,amount):\n",
        "     if self.__balance>=amount:\n",
        "        self.__balance= self.__balance - amount\n",
        "        return True\n",
        "     else:\n",
        "        print(\"Withdrawing not possible\")\n",
        ""
      ],
      "metadata": {
        "id": "GUU4nxXvMHIe"
      },
      "execution_count": 113,
      "outputs": []
    },
    {
      "cell_type": "code",
      "source": [
        "customer1=BankAccount(1000)"
      ],
      "metadata": {
        "id": "XpEZYjOJXZGL"
      },
      "execution_count": 114,
      "outputs": []
    },
    {
      "cell_type": "code",
      "source": [
        "customer1.check_balance()"
      ],
      "metadata": {
        "colab": {
          "base_uri": "https://localhost:8080/",
          "height": 35
        },
        "id": "zotuMKGHX2Ba",
        "outputId": "21206371-14d0-478b-a447-19e2ebd14ab4"
      },
      "execution_count": 115,
      "outputs": [
        {
          "output_type": "execute_result",
          "data": {
            "text/plain": [
              "'The balance in my acount is :1000'"
            ],
            "application/vnd.google.colaboratory.intrinsic+json": {
              "type": "string"
            }
          },
          "metadata": {},
          "execution_count": 115
        }
      ]
    },
    {
      "cell_type": "code",
      "source": [
        "customer1.deposit(2000)\n",
        "customer1.check_balance()"
      ],
      "metadata": {
        "colab": {
          "base_uri": "https://localhost:8080/",
          "height": 35
        },
        "id": "dEEjcQHAX2FZ",
        "outputId": "b99780a8-99e2-4167-83d6-b7518abe0aa7"
      },
      "execution_count": 116,
      "outputs": [
        {
          "output_type": "execute_result",
          "data": {
            "text/plain": [
              "'The balance in my acount is :3000'"
            ],
            "application/vnd.google.colaboratory.intrinsic+json": {
              "type": "string"
            }
          },
          "metadata": {},
          "execution_count": 116
        }
      ]
    },
    {
      "cell_type": "code",
      "source": [
        "customer1.withdraw(3500)"
      ],
      "metadata": {
        "colab": {
          "base_uri": "https://localhost:8080/"
        },
        "id": "utrryS7hYF0k",
        "outputId": "258b126a-42cc-4e3c-fa4f-1063f387082d"
      },
      "execution_count": 117,
      "outputs": [
        {
          "output_type": "stream",
          "name": "stdout",
          "text": [
            "Withdrawing not possible\n"
          ]
        }
      ]
    },
    {
      "cell_type": "code",
      "source": [
        "#6.\tDemonstrate runtime polymorphism using a method play() in a base class Instrument.\n",
        "#Derive classes Guitar and Piano that implement their own version of play().\n",
        "\n",
        "class Instrument: #Super class or parent class or base class\n",
        "  def play(self):\n",
        "    pass\n",
        "\n",
        "class Guitar(Instrument): #Child class or subclass\n",
        "  def play(self):\n",
        "    print(\"This is guitar playing.\")\n",
        "\n",
        "class Piano(Instrument):\n",
        "  def play(self):\n",
        "    print(\"This is piano playing.\")\n",
        "\n",
        "guitar = Guitar()\n",
        "piano = Piano()"
      ],
      "metadata": {
        "id": "0PgqcP_1MHNb"
      },
      "execution_count": 118,
      "outputs": []
    },
    {
      "cell_type": "code",
      "source": [
        "guitar.play()"
      ],
      "metadata": {
        "colab": {
          "base_uri": "https://localhost:8080/"
        },
        "id": "dI9b2eRcGzzo",
        "outputId": "4655bce0-7f2e-477b-b584-6ed0f075c14f"
      },
      "execution_count": 119,
      "outputs": [
        {
          "output_type": "stream",
          "name": "stdout",
          "text": [
            "This is guitar playing.\n"
          ]
        }
      ]
    },
    {
      "cell_type": "code",
      "source": [
        "piano.play()"
      ],
      "metadata": {
        "colab": {
          "base_uri": "https://localhost:8080/"
        },
        "id": "lhvyb4fzHIGU",
        "outputId": "67018891-8f10-44df-c549-6c82ce28f2fd"
      },
      "execution_count": 120,
      "outputs": [
        {
          "output_type": "stream",
          "name": "stdout",
          "text": [
            "This is piano playing.\n"
          ]
        }
      ]
    },
    {
      "cell_type": "code",
      "source": [
        "#7.\tCreate a class MathOperations with a class method add_numbers() to add two numbers,\n",
        "# and a static method subtract_numbers() to subtract two numbers.\n",
        "\n",
        "class MathOperations:\n",
        "  def __init__(self,x,y):\n",
        "    self.x=x\n",
        "    self.y=y\n",
        "\n",
        "  @classmethod\n",
        "  def add_numbers(cls,x,y):\n",
        "    return x+y\n",
        "\n",
        "  @staticmethod\n",
        "  def subtract_numbers(x,y):\n",
        "    return x-y"
      ],
      "metadata": {
        "id": "Yh4blaSsMHSy"
      },
      "execution_count": 121,
      "outputs": []
    },
    {
      "cell_type": "code",
      "source": [
        "MathOperations.add_numbers(3,5)"
      ],
      "metadata": {
        "colab": {
          "base_uri": "https://localhost:8080/"
        },
        "id": "6iUyKer71smh",
        "outputId": "6ae8ed20-2c99-4a89-cc0b-82b237ff1486"
      },
      "execution_count": 122,
      "outputs": [
        {
          "output_type": "execute_result",
          "data": {
            "text/plain": [
              "8"
            ]
          },
          "metadata": {},
          "execution_count": 122
        }
      ]
    },
    {
      "cell_type": "code",
      "source": [
        "MathOperations.subtract_numbers(5,3)"
      ],
      "metadata": {
        "colab": {
          "base_uri": "https://localhost:8080/"
        },
        "id": "rIeQ3Jl71soR",
        "outputId": "4f1719ec-d496-442a-f411-425caca0b537"
      },
      "execution_count": 123,
      "outputs": [
        {
          "output_type": "execute_result",
          "data": {
            "text/plain": [
              "2"
            ]
          },
          "metadata": {},
          "execution_count": 123
        }
      ]
    },
    {
      "cell_type": "code",
      "source": [
        "#8.\tImplement a class Person with a class method to count the total number of persons created.\n",
        "\n",
        "class Person:\n",
        "  count=0\n",
        "\n",
        "  def __init__(self):\n",
        "      Person.count+=1\n",
        "\n",
        "  @classmethod\n",
        "  def counter(cls):\n",
        "    return cls.count"
      ],
      "metadata": {
        "id": "zT71zdy_MTeX"
      },
      "execution_count": 124,
      "outputs": []
    },
    {
      "cell_type": "code",
      "source": [
        "p1=Person()\n",
        "p2=Person()\n",
        "p3=Person()"
      ],
      "metadata": {
        "id": "YJXWK7G79WtZ"
      },
      "execution_count": 125,
      "outputs": []
    },
    {
      "cell_type": "code",
      "source": [
        "print(Person.counter())"
      ],
      "metadata": {
        "colab": {
          "base_uri": "https://localhost:8080/"
        },
        "id": "SZl9v4wq9Wkq",
        "outputId": "55a23417-1834-4501-9172-02de7b2da33e"
      },
      "execution_count": 126,
      "outputs": [
        {
          "output_type": "stream",
          "name": "stdout",
          "text": [
            "3\n"
          ]
        }
      ]
    },
    {
      "cell_type": "code",
      "source": [
        "#9.\tWrite a class Fraction with attributes numerator and denominator.\n",
        "#Override the str method to display the fraction as \"numerator/denominator\".\n",
        "\n",
        "class Fraction:\n",
        "  def __init__(self,numerator,denominator):\n",
        "    self.numerator= numerator\n",
        "    self.denominator= denominator\n",
        "\n",
        "  def __str__(self):\n",
        "    return f\"{self.numerator}/{self.denominator}\"\n",
        "\n",
        "frac= Fraction(3,4)\n",
        "print(str(frac))"
      ],
      "metadata": {
        "id": "-WWly8XbMTmn",
        "colab": {
          "base_uri": "https://localhost:8080/"
        },
        "outputId": "1b384e44-c7eb-402f-f3a3-4ea8a7a052d8"
      },
      "execution_count": 127,
      "outputs": [
        {
          "output_type": "stream",
          "name": "stdout",
          "text": [
            "3/4\n"
          ]
        }
      ]
    },
    {
      "cell_type": "code",
      "source": [
        "#10.\tDemonstrate operator overloading by creating a class Vector and overriding the add method to add two vectors.\n",
        "\n",
        "\n",
        "class Vector:\n",
        "  def __init__(self,x,y):\n",
        "    self.x= x\n",
        "    self.y= y\n",
        "\n",
        "  def __add__(self,other):\n",
        "    return Vector(self.x + other.x,self.y + other.y)\n",
        "\n",
        "v1= Vector(2,3)\n",
        "v2= Vector(4,5)\n",
        "v3= v1 + v2\n",
        "\n",
        "print(v3.x,v3.y)"
      ],
      "metadata": {
        "id": "_k9cuutCMTuQ",
        "colab": {
          "base_uri": "https://localhost:8080/"
        },
        "outputId": "bdf04c87-8aaa-4d0d-bbcd-374cc41a9897"
      },
      "execution_count": 128,
      "outputs": [
        {
          "output_type": "stream",
          "name": "stdout",
          "text": [
            "6 8\n"
          ]
        }
      ]
    },
    {
      "cell_type": "code",
      "source": [
        "#11.\tCreate a class Person with attributes name and age.\n",
        "#Add a method greet() that prints \"Hello, my name is {name} and I am {age} years old.\"\n",
        "\n",
        "class Person:\n",
        "  def __init__(self,name,age):\n",
        "    self.name= name\n",
        "    self.age= age\n",
        "  def greet(self):\n",
        "    return f\"Hello, my name is {self.name} and I am {self.age} years old.\"\n",
        "\n",
        "person= Person(\"Ajay\",32)\n",
        "print(person.greet())"
      ],
      "metadata": {
        "id": "xigYDIpIMTxX",
        "colab": {
          "base_uri": "https://localhost:8080/"
        },
        "outputId": "c083a7e4-07c3-4460-d7dd-cdb95f8ecd37"
      },
      "execution_count": 129,
      "outputs": [
        {
          "output_type": "stream",
          "name": "stdout",
          "text": [
            "Hello, my name is Ajay and I am 32 years old.\n"
          ]
        }
      ]
    },
    {
      "cell_type": "code",
      "source": [
        "#12.\tImplement a class Student with attributes name and grades.\n",
        "#Create a method average_grade() to compute the average of the grades.\n",
        "\n",
        "class Student:\n",
        "  def __init__(self,name,grade1,grade2,grade3):\n",
        "    self.name= name\n",
        "    self.grades= [grade1,grade2,grade3]\n",
        "  def average_grade(self):\n",
        "    avg= sum(self.grades)/len(self.grades)\n",
        "    return f\"My name is {self.name} and my average grade is {round(avg,2)}\"\n",
        "\n",
        "s1=Student(\"ajay\",70,48,80)\n",
        "print(s1.average_grade())"
      ],
      "metadata": {
        "id": "1CuWJ5NFMT05",
        "colab": {
          "base_uri": "https://localhost:8080/"
        },
        "outputId": "f16f4057-103f-4ae2-b4fc-01a1770aae28"
      },
      "execution_count": 130,
      "outputs": [
        {
          "output_type": "stream",
          "name": "stdout",
          "text": [
            "My name is ajay and my average grade is 66.0\n"
          ]
        }
      ]
    },
    {
      "cell_type": "code",
      "source": [
        "#13.\tCreate a class Rectangle with methods set_dimensions() to set the dimensions and area() to calculate the area.\n",
        "\n",
        "class Rectangle:\n",
        "  def set_dimensions(self,length, breadth):\n",
        "    self.length= length\n",
        "    self.breadth= breadth\n",
        "\n",
        "  def area(self):\n",
        "    return self.length*self.breadth\n",
        "\n",
        "\n",
        "rec1= Rectangle()\n",
        "rec1.set_dimensions(230,45)\n",
        "\n",
        "print(f\"The area of the rectangle is {rec1.area()}\")"
      ],
      "metadata": {
        "id": "XqsE3DI9MT30",
        "colab": {
          "base_uri": "https://localhost:8080/"
        },
        "outputId": "515149d1-a635-48cc-d5e3-c0f25d384704"
      },
      "execution_count": 131,
      "outputs": [
        {
          "output_type": "stream",
          "name": "stdout",
          "text": [
            "The area of the rectangle is 10350\n"
          ]
        }
      ]
    },
    {
      "cell_type": "code",
      "source": [
        "#14. Create a class Employee with a method calculate_salary() that computes the salary based on hours worked and hourly rate.\n",
        "#Create a derived class Manager that adds a bonus to the salary.\n",
        "\n",
        "class Employee:\n",
        "  def __init__(self,hourly_rate,hours):\n",
        "    self.hourly_rate = hourly_rate\n",
        "    self.hours = hours\n",
        "\n",
        "  def calculate_salary(self):\n",
        "    return  self.hourly_rate * self.hours\n",
        "\n",
        "\n",
        "class Manager(Employee):\n",
        "  def __init__(self, hourly_rate, hours, bonus):\n",
        "        super().__init__(hourly_rate, hours)\n",
        "        self.bonus = bonus\n",
        "        self.name = \"Ajay\"\n",
        "\n",
        "  def calculate_salary_manager(self):\n",
        "        base_salary = super().calculate_salary()\n",
        "        return base_salary + self.bonus\n",
        "\n",
        "  def show(self):\n",
        "        total_salary = self.calculate_salary_manager()\n",
        "        return f\"My name is {self.name} and salary after the bonus is: {total_salary}\"\n"
      ],
      "metadata": {
        "id": "DFfTbR5NMu_E"
      },
      "execution_count": 132,
      "outputs": []
    },
    {
      "cell_type": "code",
      "source": [
        "m1 = Manager(50, 160, 1000)  # Example with hourly rate 50, hours worked 160, and bonus 1000\n",
        "print(m1.show())"
      ],
      "metadata": {
        "colab": {
          "base_uri": "https://localhost:8080/"
        },
        "id": "cA3dHwUzlG6P",
        "outputId": "f81fd246-a21e-4dc7-af8e-1f9f38565105"
      },
      "execution_count": 133,
      "outputs": [
        {
          "output_type": "stream",
          "name": "stdout",
          "text": [
            "My name is Ajay and salary after the bonus is: 9000\n"
          ]
        }
      ]
    },
    {
      "cell_type": "code",
      "source": [
        "#15.\tCreate a class Product with attributes name, price, and quantity.\n",
        "#Implement a method total_price() that calculates the total price of the product.\n",
        "\n",
        "class Product:\n",
        "  def __init__(self,name,price,quantity):\n",
        "    self.name = name\n",
        "    self.price = price\n",
        "    self.quantity = quantity\n",
        "\n",
        "  def total_price(self):\n",
        "    return self.price*self.quantity\n",
        "\n",
        "  def show(self):\n",
        "    total_pr = self.total_price()\n",
        "    print(f\"The price of the {self.name} is: {total_pr}\")\n",
        "\n",
        "p1= Product(\"book\",25,10)\n",
        "p1.show()"
      ],
      "metadata": {
        "id": "LOWERJs-MvCH",
        "colab": {
          "base_uri": "https://localhost:8080/"
        },
        "outputId": "b4618171-65af-4c08-9088-7891573d74b1"
      },
      "execution_count": 134,
      "outputs": [
        {
          "output_type": "stream",
          "name": "stdout",
          "text": [
            "The price of the book is: 250\n"
          ]
        }
      ]
    },
    {
      "cell_type": "code",
      "source": [
        "#16.\tCreate a class Animal with an abstract method sound().\n",
        "#Create two derived classes Cow and Sheep that implement the sound() method.\n",
        "\n",
        "from abc import ABC,abstractmethod\n",
        "\n",
        "class Animal(ABC):\n",
        "  @abstractmethod\n",
        "  def sound():\n",
        "    pass\n",
        "\n",
        "class Cow(Animal):\n",
        "   def sound(self):\n",
        "    print(\"The animal makes the sound moo...\")\n",
        "\n",
        "class Sheep(Animal):\n",
        "   def sound(self):\n",
        "    print(\"The animal makes the sound ba..ba\")\n",
        "\n",
        "cow= Cow()\n",
        "sheep= Sheep()"
      ],
      "metadata": {
        "id": "XPqfkxIXMvFf"
      },
      "execution_count": 135,
      "outputs": []
    },
    {
      "cell_type": "code",
      "source": [
        "cow.sound()"
      ],
      "metadata": {
        "colab": {
          "base_uri": "https://localhost:8080/"
        },
        "id": "Tm_5CFKqEo7W",
        "outputId": "0097a164-9dba-4af0-a17d-0a94aea93128"
      },
      "execution_count": 136,
      "outputs": [
        {
          "output_type": "stream",
          "name": "stdout",
          "text": [
            "The animal makes the sound moo...\n"
          ]
        }
      ]
    },
    {
      "cell_type": "code",
      "source": [
        "sheep.sound()"
      ],
      "metadata": {
        "colab": {
          "base_uri": "https://localhost:8080/"
        },
        "id": "BJ8yOBTkEpJo",
        "outputId": "03e07abd-2fdc-4c1a-db98-286bfa6bbeef"
      },
      "execution_count": 137,
      "outputs": [
        {
          "output_type": "stream",
          "name": "stdout",
          "text": [
            "The animal makes the sound ba..ba\n"
          ]
        }
      ]
    },
    {
      "cell_type": "code",
      "source": [
        "#17.\tCreate a class Book with attributes title, author, and year _published.\n",
        "#Add a method get_book_info() that returns a formatted string with the book's details.\n",
        "\n",
        "class Book:\n",
        "  def __init__(self,title,author,year):\n",
        "    self.title = title\n",
        "    self.author = author\n",
        "    self.year = year\n",
        "\n",
        "  def get_book_info(self):\n",
        "    return f\"The title of the book is {self.title}, author is {self.author} and was published in year {self.year}\"\n",
        "\n",
        "b1= Book(\"Alchemist\",\"Paulo Coelho\",2000)\n",
        "b1.get_book_info()"
      ],
      "metadata": {
        "id": "xujGhihdMvIS",
        "colab": {
          "base_uri": "https://localhost:8080/",
          "height": 35
        },
        "outputId": "bb415121-d36f-47aa-b3e7-e2e82284dbae"
      },
      "execution_count": 138,
      "outputs": [
        {
          "output_type": "execute_result",
          "data": {
            "text/plain": [
              "'The title of the book is Alchemist, author is Paulo Coelho and was published in year 2000'"
            ],
            "application/vnd.google.colaboratory.intrinsic+json": {
              "type": "string"
            }
          },
          "metadata": {},
          "execution_count": 138
        }
      ]
    },
    {
      "cell_type": "code",
      "source": [
        "#18.\tCreate a class House with attributes address and price. Create a derived class Mansion that adds an attribute number of rooms.\n",
        "\n",
        "class House:\n",
        "  def __init__(self,address,price):\n",
        "    self.address= address\n",
        "    self.price=price\n",
        "\n",
        "class Mansion(House):\n",
        "   def __init__(self,address, price,no_rooms):\n",
        "    super().__init__(address,price)\n",
        "    self.no_rooms= no_rooms\n",
        "\n",
        "   def show(self):\n",
        "      return f\"The mansion is in {self.address} and cost {self.price} and has {self.no_rooms} number of rooms\""
      ],
      "metadata": {
        "id": "b-vfVfrhMvL8"
      },
      "execution_count": 139,
      "outputs": []
    },
    {
      "cell_type": "code",
      "source": [
        "mansion = Mansion(\"Mumbai\", 150000, 5)\n",
        "\n",
        "print(mansion.show())"
      ],
      "metadata": {
        "colab": {
          "base_uri": "https://localhost:8080/"
        },
        "id": "ETSdA56mLgjI",
        "outputId": "e4ca8014-6820-4efb-921d-2c94e6238516"
      },
      "execution_count": 140,
      "outputs": [
        {
          "output_type": "stream",
          "name": "stdout",
          "text": [
            "The mansion is in Mumbai and cost 150000 and has 5 number of rooms\n"
          ]
        }
      ]
    },
    {
      "cell_type": "code",
      "source": [],
      "metadata": {
        "id": "pkictmwnL6T9"
      },
      "execution_count": 140,
      "outputs": []
    }
  ]
}