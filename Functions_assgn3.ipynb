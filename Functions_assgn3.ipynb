{
  "nbformat": 4,
  "nbformat_minor": 0,
  "metadata": {
    "colab": {
      "provenance": []
    },
    "kernelspec": {
      "name": "python3",
      "display_name": "Python 3"
    },
    "language_info": {
      "name": "python"
    }
  },
  "cells": [
    {
      "cell_type": "markdown",
      "source": [
        "# ASSIGNMENT-3- FUNCTIONS"
      ],
      "metadata": {
        "id": "YWOn3d_29vtU"
      }
    },
    {
      "cell_type": "markdown",
      "source": [
        "#Theory Questions:\n",
        "Note: For each theory Question, give at least one example."
      ],
      "metadata": {
        "id": "AiwWsYbc_c9v"
      }
    },
    {
      "cell_type": "markdown",
      "source": [
        "Theory Questions:\n",
        "Note: For each theory Question, give at least one example.\n",
        "\n",
        "Q1.\tWhat is the difference between a function and a method in Python?\n",
        "\n",
        "A1. A function in python is a reusable code that performs a specific task and function can be called independently. While, method is a function that is associated with an object and methods are called on the object often to manipulate the data of the object.\n",
        "\n",
        "For :-\n",
        "1. Function example-  \n",
        " def func1(x):   #defining the function  \n",
        "   return x**2\n",
        "\n",
        "  func1(2) # calling the function\n",
        "\n",
        "2. Method example-  \n",
        "class Calculator:   \n",
        "    def func1(self, x):   \n",
        "     return x**2\n",
        "\n",
        "calc = Calculator()  # Create an instance of the class  \n",
        "print(calc.func1(3))\n",
        "\n",
        "The method func1 behaves similarly to the func1 function, but is called on the object calc.\n",
        "\n",
        "---\n",
        "\n",
        "\n",
        "\n",
        "\n",
        "Q2.\tExplain the concept of function arguments and parameters in Python.\n",
        "\n",
        "A2. Parameters are the variables defined when a function is defined. They act as placeholders for the values.\n",
        "\n",
        "example-  \n",
        "def sqr(x):  # x is a parameter            \n",
        "    return x**2\n",
        "\n",
        "Arguments are the values supplied to the function when it is called. There are default arguments, variable length arguments and keyword arguments.\n",
        "\n",
        "example-  \n",
        "a. default arg:\n",
        " def add(x,y=2):  # x,y are  parameter            \n",
        "    return x+y:\n",
        "    \n",
        "print(add(3)) #calling the function with x=3 and default y=2 as an argument   \n",
        "\n",
        "b. variable arguments\n",
        "def add(*args):\n",
        "    return sum(args)\n",
        "\n",
        "print(add(1, 2, 3, 4))  # Output: 10\n",
        "\n",
        "c. Function with variable keyword arguments-  \n",
        "def print_details(**kwargs):  \n",
        "    for key, value in kwargs.items():   \n",
        "        print(f\"{key}: {value}\")\n",
        "\n",
        "print_details(name=\"Rahul\", course=\"Data Science\")      \n",
        "Output:\n",
        " name: Rahul\n",
        " course: Data Science\n",
        "\n",
        "\n",
        "\n",
        "---\n",
        "\n",
        "\n",
        "  \n",
        "\n",
        "Q3.\tWhat are the different ways to define and call a function in Python?\n",
        "\n",
        "A3.\n",
        "####a. Regular Function- using def to define a function and return.  \n",
        "Example-  \n",
        "def greet(name):  \n",
        "    return f\"Hello, {name}!\"  \n",
        "\n",
        "print(greet(\"Rahul\")) #calling the function\n",
        "\n",
        "####b. Lambda function- Using Lambda keyword for single expression.   \n",
        "Example-  \n",
        "square = lambda x: x**2\n",
        "\n",
        "print(square(4))  # Calling the function\n",
        "\n",
        "####c. Nested function-Functions can be defined within other functions.   \n",
        "Example-  \n",
        "def func1(x):   \n",
        "    def func2(y):   \n",
        "        return x + y  \n",
        "    return func2\n",
        "\n",
        "add_to_five = func1(5)    \n",
        "print(add_to_five(3))  #calling the function\n",
        "\n",
        "####d. Default arguments- Functions can have default values for parameters, which are used if no argument is provided.  \n",
        "Example-  \n",
        "def greet(name=\"Guest\"):  \n",
        "    return f\"Welcome, {name}!\"\n",
        "\n",
        "print(greet())   # Output: Welcome, Guest!\n",
        "\n",
        "####e. Variable-Length Arguments-You can define functions that accept any number of positional or keyword arguments using *args and **kwargs-dictionary type data.  \n",
        "Example-  \n",
        "def add(*args):\n",
        "    return sum(args)\n",
        "\n",
        "print(add(1, 2, 3, 4))  # Output: 10\n",
        "\n",
        "Function with variable keyword arguments-\n",
        "def print_details(**kwargs):\n",
        "    for key, value in kwargs.items():\n",
        "        print(f\"{key}: {value}\")\n",
        "\n",
        "print_details(name=\"Rahul\", course=\"Data Science\")  #Output:\n",
        " name: Rahul\n",
        " course: Data Science\n",
        "\n",
        "####f. Generator function- uses the yield keyword instead of return to produce a sequence of values on instance.   \n",
        "Example-  \n",
        "def generate_numbers(n):      \n",
        "    for i in range(n):  \n",
        "        yield i\n",
        "\n",
        "gen = generate_numbers(5)   \n",
        "for num in gen:   \n",
        "    print(num)  # Output: 0, 1, 2, 3, 4   \n",
        "\n",
        "####g. Method function- method is a function that is associated with an object and methods are called on the object often to manipulate the data of the object.\n",
        "Example-\n",
        "class Square:   \n",
        "    def func1(self, x):   \n",
        "     return x**2\n",
        "\n",
        "calc = Square()  # Create an instance of the class  \n",
        "print(calc.func1(5))\n",
        "\n",
        "The method func1 behaves similarly to the func1 function, but is called on the object calc.\n",
        "\n",
        "\n",
        "\n",
        "\n",
        "\n",
        "\n",
        "\n",
        "\n",
        "\n",
        "\n",
        "\n",
        "---\n",
        "\n",
        "\n",
        "Q4.\tWhat is the purpose of the 'return' statement in a Python function?\n",
        "\n",
        "A4. The return statement in a Python function is used to terminate the function and provide with the result in one go. Using of return leads to use of more memory, as all the value gets calculated and then single a result given out.\n",
        "\n",
        "def add(a, b):  \n",
        "    return a + b  # Returns the sum of a and b  \n",
        "result = add(3, 5)  \n",
        "print(result)  \n",
        "\n",
        "\n",
        "\n",
        "---\n",
        "\n",
        "\n",
        "\n",
        "Q5.\tWhat are iterators in Python and how do they differ from iterables?\n",
        "\n",
        "A5. In Python iterators is an object that is used to iterate over iterable objects like lists, tuples, sets and dictionary. Iterator is initialised using iter() method and uses the next() method for iteration. An iterable is any Python object that can be iterated while iterator is an object that represents a stream of data.\n",
        "\n",
        "For example:-A list is an iterable -  \n",
        "my_list = [1, 2, \"delhi\"]   \n",
        "\n",
        "for item in my_list:  # Iterating directly  \n",
        "    print(item)\n",
        "\n",
        "Using iter() to create an iterator from an iterable -  \n",
        "\n",
        "iterator = iter(my_list)  \n",
        "print(next(iterator))\n",
        "\n",
        "\n",
        "---\n",
        "\n"
      ],
      "metadata": {
        "id": "WEjXydv--BfF"
      }
    },
    {
      "cell_type": "markdown",
      "source": [
        "Q6.\tExplain the concept of generators in Python and how they are defined.\n",
        "\n",
        "A6. In Python, generator function are a more concise and efficicent with respect to memory to create iterators. Unlike regular function, generator functions uses yield to give output than return. While using yield, it returns the value specified in the yield statement but rather than terminating it suspends the function. The next time it is called, it starts out from where it left. Generator function are useful while working with large datasets and infinite sequences.\n",
        "\n",
        "For example:-\n",
        "def simple_generator():     \n",
        "    yield \"Study\"   \n",
        "    yield \"Cook\"  \n",
        "    yield \"Sleep\"\n",
        "\n",
        "Using the generator function    \n",
        "gen = simple_generator()\n",
        "\n",
        "Iterating through the generator   \n",
        "print(next(gen))  # Output: 1   \n",
        "print(next(gen))  # Output: 2   \n",
        "print(next(gen))  # Output: 3   \n",
        "print(next(gen))  # Raises StopIteration\n",
        "\n",
        "\n",
        "\n",
        "---\n",
        "\n",
        "\n",
        "\n",
        "\n",
        "Q7.\tWhat are the advantages of using generators over regular functions?\n",
        "\n",
        "A7. The main advantage of using generators over regular function is to improve memory efficiency. Generators are using lazy evaluation to produce one output at a time and does not store the entire sequence at once.\n",
        "Secondly, Generators are faster for producing and processing large data streams and infinite loops because they avoid the overhead of creating and storing large intermediate data structures.\n",
        "\n",
        "Example-  \n",
        "def infinite_nums():   \n",
        "    n = 1   \n",
        "    while True:   \n",
        "        yield n   \n",
        "        n =n+ 1\n",
        "\n",
        "\n",
        "---\n",
        "\n",
        "\n",
        "Q8.\tWhat is a lambda function in Python and when is it typically used?\n",
        "\n",
        "A8. Lambda function is a way to create anonymous functions, also know as lambda expression. They are used for short term operations and are defined in single line. Lambda functions can have have any number of arguments but only one expression.   \n",
        "Basic Syntax:- lambda arguments: expression\n",
        "\n",
        "Example-  \n",
        "add= lambda x,y:x+y\n",
        "\n",
        "result= add(3,4)\n",
        "\n",
        "print(result)\n",
        "\n",
        "\n",
        "---\n",
        "\n",
        "\n",
        "\n",
        "Q9. Explain the purpose and usage of 'map' function in Python?\n",
        "\n",
        "A9. Map function in python is a built in function that applies a given function to all the items in an iterable (eg:- list) and returns an iterator of the results.Syntax- map(function, iterable,...).   \n",
        "\n",
        "Example-  \n",
        "list1=[1,2,3,4,5]   \n",
        "output= list(map(lambda x:x**2, list1))   \n",
        "print(output)\n",
        "\n",
        "\n",
        "---\n",
        "\n",
        "\n",
        "\n",
        "Q10. What is the difference between 'map()', 'reduce()' and 'filter()' functions in Python?\n",
        "\n",
        "A10.\n",
        "Map function in python is a built in function that applies a given function to all the items in an iterable (eg:- list).                Syntax- map(function, iterable,...).\n",
        "\n",
        "Example-    \n",
        "list1=[1,2,3,4]   \n",
        "output= list(map(lambda x:x**2, list1))   \n",
        "print(output)\n",
        "\n",
        "Reduce function implements a mathematical technique known as folding or reduction. It is a process where a list of items is reduced to a single value. It has to be imported from library of functools. Reduce should have atleast 2 arguments.\n",
        "Syntax- reduce(function, iterable)\n",
        "\n",
        "Example-  \n",
        "from functools import reduce    \n",
        "list1=[1,2,3,4]   \n",
        "sum= reduce(lambda x,y:x+y,list1)   \n",
        "print(sum)\n",
        "\n",
        "Filter function in Python is a built-in function that allows you to filter elements from an iterable like a list, tuple, etc. based on a given condition. The result is an iterator containing only the elements that satisfy the condition defined by a function.\n",
        "Syntax- filter(function, iterable)\n",
        "\n",
        "Example-    \n",
        "def is_even(num):   \n",
        "return num%2==0\n",
        "\n",
        "list1=[1,2,3,4]   \n",
        "result=filter(is_even,list1)      \n",
        "print(list(result))\n",
        "\n",
        "\n",
        "\n",
        "---\n",
        "\n",
        "\n",
        "\n",
        "\n"
      ],
      "metadata": {
        "id": "Oul99Zt4-PdO"
      }
    },
    {
      "cell_type": "markdown",
      "source": [
        "\n",
        "\n",
        "---\n",
        "\n",
        "\n",
        "Q11. Using  pen & paper write the internal mechnism for sum operation using reduce function on the given list:[47,11,42,13];\n",
        "\n",
        "attach paper image for this answer in doc or colab notebook.\n",
        "\n",
        "A11.\n",
        "![WhatsApp Image 2024-12-19 at 5.29.51 PM.jpeg](data:image/jpeg;base64,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)\n",
        "\n",
        "\n",
        "\n",
        "---\n",
        "\n"
      ],
      "metadata": {
        "id": "XLFuS7sefoEG"
      }
    },
    {
      "cell_type": "code",
      "source": [
        "#solved\n",
        "from functools import reduce\n",
        "list1=[47,11,42,13]\n",
        "\n",
        "output= reduce(lambda x,y:x+y,list1)\n",
        "\n",
        "print(output)"
      ],
      "metadata": {
        "colab": {
          "base_uri": "https://localhost:8080/"
        },
        "id": "PA0IE6hswY6o",
        "outputId": "d07ddec9-e996-48ad-a3ba-91e615696693"
      },
      "execution_count": null,
      "outputs": [
        {
          "output_type": "stream",
          "name": "stdout",
          "text": [
            "113\n"
          ]
        }
      ]
    },
    {
      "cell_type": "markdown",
      "source": [
        "#Practical Questions:"
      ],
      "metadata": {
        "id": "BvGeMJx7_Zc3"
      }
    },
    {
      "cell_type": "code",
      "execution_count": null,
      "metadata": {
        "id": "djbM_zqe9sdH",
        "colab": {
          "base_uri": "https://localhost:8080/"
        },
        "outputId": "495a20e0-b5a5-4e16-d065-259092195f63"
      },
      "outputs": [
        {
          "output_type": "stream",
          "name": "stdout",
          "text": [
            "34\n"
          ]
        }
      ],
      "source": [
        "#Q1.\tWrite a Python function that takes a list of numbers as input and returns the sum of all even numbers in the list.\n",
        "from functools import reduce\n",
        "\n",
        "l1=[2,6,3,9,10,13,16]\n",
        "\n",
        "sum_even = reduce(lambda x,y:x+y,list(filter(lambda x:x%2==0,l1)))\n",
        "print(sum_even)"
      ]
    },
    {
      "cell_type": "code",
      "source": [
        "#Q2.\tCreate a Python function that accepts a string and returns the reverse of that string.\n",
        "#1st method\n",
        "a = input(\"please enter a string: \")\n",
        "\n",
        "def rev(a):\n",
        "    n = len(a)\n",
        "    for i in range(0, n):\n",
        "        return a[::-1]"
      ],
      "metadata": {
        "id": "AAojo85w_oD9",
        "colab": {
          "base_uri": "https://localhost:8080/"
        },
        "outputId": "9a63d0dc-9d4b-4ff9-b1c9-34c82ff01006"
      },
      "execution_count": null,
      "outputs": [
        {
          "name": "stdout",
          "output_type": "stream",
          "text": [
            "please enter a string: yoga\n"
          ]
        }
      ]
    },
    {
      "cell_type": "code",
      "source": [
        "rev(a)"
      ],
      "metadata": {
        "colab": {
          "base_uri": "https://localhost:8080/",
          "height": 35
        },
        "id": "M19cgVKm8Szv",
        "outputId": "201e7a7d-1ea3-486d-f9ee-f3e2fac5f9e5"
      },
      "execution_count": null,
      "outputs": [
        {
          "output_type": "execute_result",
          "data": {
            "text/plain": [
              "'agoy'"
            ],
            "application/vnd.google.colaboratory.intrinsic+json": {
              "type": "string"
            }
          },
          "metadata": {},
          "execution_count": 175
        }
      ]
    },
    {
      "cell_type": "code",
      "source": [
        "#2nd method\n",
        "b=input(\"enter a string: \")\n",
        "rev1= lambda x:x[::-1]"
      ],
      "metadata": {
        "colab": {
          "base_uri": "https://localhost:8080/"
        },
        "id": "QVFbxOZt97-b",
        "outputId": "02fac1f7-c60b-4551-aa11-919e2dff6c17"
      },
      "execution_count": null,
      "outputs": [
        {
          "name": "stdout",
          "output_type": "stream",
          "text": [
            "enter a string: delhi\n"
          ]
        }
      ]
    },
    {
      "cell_type": "code",
      "source": [
        "rev1(b)"
      ],
      "metadata": {
        "colab": {
          "base_uri": "https://localhost:8080/",
          "height": 35
        },
        "id": "0AKMw2St-EP3",
        "outputId": "b49e229d-4f49-43e9-c072-b85835240aba"
      },
      "execution_count": null,
      "outputs": [
        {
          "output_type": "execute_result",
          "data": {
            "text/plain": [
              "'ihled'"
            ],
            "application/vnd.google.colaboratory.intrinsic+json": {
              "type": "string"
            }
          },
          "metadata": {},
          "execution_count": 177
        }
      ]
    },
    {
      "cell_type": "code",
      "source": [
        "#Q3.\tImplement a Python function that takes a list of integers and returns a new list containing the squares of each number.\n",
        "l2=[2,6,8,9,10]\n",
        "\n",
        "sqr_list= list(map(lambda x:x**2,l2))\n",
        "\n",
        "print(sqr_list)\n"
      ],
      "metadata": {
        "id": "9QBnILri_oE4",
        "colab": {
          "base_uri": "https://localhost:8080/"
        },
        "outputId": "f1ed5ba0-33d6-48ad-fafe-8a891933cb1c"
      },
      "execution_count": null,
      "outputs": [
        {
          "output_type": "stream",
          "name": "stdout",
          "text": [
            "[4, 36, 64, 81, 100]\n"
          ]
        }
      ]
    },
    {
      "cell_type": "code",
      "source": [
        "#Q4.\tWrite a Python function that checks if a given number is prime or not from 1 to 200."
      ],
      "metadata": {
        "id": "hyTZhOKJ_oMv"
      },
      "execution_count": null,
      "outputs": []
    },
    {
      "cell_type": "code",
      "source": [
        "def is_prime(n):\n",
        "    if n <= 1:\n",
        "        return False\n",
        "    for i in range(2, n):\n",
        "        if n % i == 0:\n",
        "            return False\n",
        "    return True"
      ],
      "metadata": {
        "id": "gdd3fLw2OiTv"
      },
      "execution_count": null,
      "outputs": []
    },
    {
      "cell_type": "code",
      "source": [
        "# Check for numbers between 1 and 200\n",
        "for num in range(1, 201):\n",
        "    if is_prime(num)==True:\n",
        "        print(f\"{num} is a prime number\")"
      ],
      "metadata": {
        "colab": {
          "base_uri": "https://localhost:8080/"
        },
        "id": "heZVvK4VZLs_",
        "outputId": "04bd56b1-d46a-4273-99f4-728cf682192e"
      },
      "execution_count": null,
      "outputs": [
        {
          "output_type": "stream",
          "name": "stdout",
          "text": [
            "2 is a prime number\n",
            "3 is a prime number\n",
            "5 is a prime number\n",
            "7 is a prime number\n",
            "11 is a prime number\n",
            "13 is a prime number\n",
            "17 is a prime number\n",
            "19 is a prime number\n",
            "23 is a prime number\n",
            "29 is a prime number\n",
            "31 is a prime number\n",
            "37 is a prime number\n",
            "41 is a prime number\n",
            "43 is a prime number\n",
            "47 is a prime number\n",
            "53 is a prime number\n",
            "59 is a prime number\n",
            "61 is a prime number\n",
            "67 is a prime number\n",
            "71 is a prime number\n",
            "73 is a prime number\n",
            "79 is a prime number\n",
            "83 is a prime number\n",
            "89 is a prime number\n",
            "97 is a prime number\n",
            "101 is a prime number\n",
            "103 is a prime number\n",
            "107 is a prime number\n",
            "109 is a prime number\n",
            "113 is a prime number\n",
            "127 is a prime number\n",
            "131 is a prime number\n",
            "137 is a prime number\n",
            "139 is a prime number\n",
            "149 is a prime number\n",
            "151 is a prime number\n",
            "157 is a prime number\n",
            "163 is a prime number\n",
            "167 is a prime number\n",
            "173 is a prime number\n",
            "179 is a prime number\n",
            "181 is a prime number\n",
            "191 is a prime number\n",
            "193 is a prime number\n",
            "197 is a prime number\n",
            "199 is a prime number\n"
          ]
        }
      ]
    },
    {
      "cell_type": "code",
      "source": [
        "#Q5. Create an iterator class in Python that generates the Fibonacci sequence up to a specified number of terms.\n",
        "n=int(input(\"Please enter the number: \"))\n",
        "def fib(n):\n",
        "  a=0\n",
        "  b=1\n",
        "  for i in range(n+1):\n",
        "    yield a\n",
        "    a,b=b,a+b"
      ],
      "metadata": {
        "id": "r_utGz7R_oVk",
        "colab": {
          "base_uri": "https://localhost:8080/"
        },
        "outputId": "bc8ca1a0-6acd-4b0f-b983-f45b4668de0f"
      },
      "execution_count": null,
      "outputs": [
        {
          "name": "stdout",
          "output_type": "stream",
          "text": [
            "Please enter the number: 5\n"
          ]
        }
      ]
    },
    {
      "cell_type": "code",
      "source": [
        "fib(n)"
      ],
      "metadata": {
        "colab": {
          "base_uri": "https://localhost:8080/"
        },
        "id": "Njr9qwXIeNW0",
        "outputId": "1f82d507-aaec-43f4-9878-3c8864b85c64"
      },
      "execution_count": null,
      "outputs": [
        {
          "output_type": "execute_result",
          "data": {
            "text/plain": [
              "<generator object fib at 0x79feca141000>"
            ]
          },
          "metadata": {},
          "execution_count": 210
        }
      ]
    },
    {
      "cell_type": "code",
      "source": [
        "a=iter(fib(n))"
      ],
      "metadata": {
        "id": "uO9gfyWLJ2-h"
      },
      "execution_count": null,
      "outputs": []
    },
    {
      "cell_type": "code",
      "source": [
        "#can be used using next function\n",
        "next(a)"
      ],
      "metadata": {
        "colab": {
          "base_uri": "https://localhost:8080/"
        },
        "id": "pNdvxOPMfk6q",
        "outputId": "761c70d8-45ee-4f0d-b984-aa70223d3208"
      },
      "execution_count": null,
      "outputs": [
        {
          "output_type": "execute_result",
          "data": {
            "text/plain": [
              "0"
            ]
          },
          "metadata": {},
          "execution_count": 199
        }
      ]
    },
    {
      "cell_type": "code",
      "source": [
        "next(a)"
      ],
      "metadata": {
        "colab": {
          "base_uri": "https://localhost:8080/"
        },
        "id": "-59fr90wgBlB",
        "outputId": "6df33e2c-f703-4764-dfb9-119bced31a8e"
      },
      "execution_count": null,
      "outputs": [
        {
          "output_type": "execute_result",
          "data": {
            "text/plain": [
              "1"
            ]
          },
          "metadata": {},
          "execution_count": 200
        }
      ]
    },
    {
      "cell_type": "code",
      "source": [
        "next(a)"
      ],
      "metadata": {
        "colab": {
          "base_uri": "https://localhost:8080/"
        },
        "id": "bZ5p_8cYgBr5",
        "outputId": "aa2210ee-3312-4539-802d-3c38debaae0c"
      },
      "execution_count": null,
      "outputs": [
        {
          "output_type": "execute_result",
          "data": {
            "text/plain": [
              "1"
            ]
          },
          "metadata": {},
          "execution_count": 201
        }
      ]
    },
    {
      "cell_type": "code",
      "source": [
        "next(a)"
      ],
      "metadata": {
        "colab": {
          "base_uri": "https://localhost:8080/"
        },
        "id": "bO8PMu1EgBx-",
        "outputId": "1b77a7fd-e3a9-4caf-9ad5-b4163c282b62"
      },
      "execution_count": null,
      "outputs": [
        {
          "output_type": "execute_result",
          "data": {
            "text/plain": [
              "2"
            ]
          },
          "metadata": {},
          "execution_count": 202
        }
      ]
    },
    {
      "cell_type": "code",
      "source": [
        "next(a)"
      ],
      "metadata": {
        "colab": {
          "base_uri": "https://localhost:8080/"
        },
        "id": "znJS1nD1gEr4",
        "outputId": "f0d5fb69-1569-4534-90dd-2dc7505feb9e"
      },
      "execution_count": null,
      "outputs": [
        {
          "output_type": "execute_result",
          "data": {
            "text/plain": [
              "3"
            ]
          },
          "metadata": {},
          "execution_count": 203
        }
      ]
    },
    {
      "cell_type": "code",
      "source": [
        "next(a)"
      ],
      "metadata": {
        "colab": {
          "base_uri": "https://localhost:8080/"
        },
        "id": "VH8eQAXLgExV",
        "outputId": "4a2d387e-f45c-4f22-d7e0-6cccbdc061fb"
      },
      "execution_count": null,
      "outputs": [
        {
          "output_type": "execute_result",
          "data": {
            "text/plain": [
              "5"
            ]
          },
          "metadata": {},
          "execution_count": 204
        }
      ]
    },
    {
      "cell_type": "code",
      "source": [
        "next(a)"
      ],
      "metadata": {
        "colab": {
          "base_uri": "https://localhost:8080/",
          "height": 141
        },
        "id": "lXOpa1IKggOI",
        "outputId": "4961d3a7-1e6b-455f-d77b-f1793a78f605"
      },
      "execution_count": null,
      "outputs": [
        {
          "output_type": "error",
          "ename": "StopIteration",
          "evalue": "",
          "traceback": [
            "\u001b[0;31m---------------------------------------------------------------------------\u001b[0m",
            "\u001b[0;31mStopIteration\u001b[0m                             Traceback (most recent call last)",
            "\u001b[0;32m<ipython-input-205-15841f3f11d4>\u001b[0m in \u001b[0;36m<cell line: 1>\u001b[0;34m()\u001b[0m\n\u001b[0;32m----> 1\u001b[0;31m \u001b[0mnext\u001b[0m\u001b[0;34m(\u001b[0m\u001b[0ma\u001b[0m\u001b[0;34m)\u001b[0m\u001b[0;34m\u001b[0m\u001b[0;34m\u001b[0m\u001b[0m\n\u001b[0m",
            "\u001b[0;31mStopIteration\u001b[0m: "
          ]
        }
      ]
    },
    {
      "cell_type": "code",
      "source": [
        "# or can be used in a for loop\n",
        "for x in a:\n",
        "  print(x)"
      ],
      "metadata": {
        "colab": {
          "base_uri": "https://localhost:8080/"
        },
        "id": "-5tVeBohd7ad",
        "outputId": "bda46b62-f288-45a5-914c-9f33a8a704ec"
      },
      "execution_count": null,
      "outputs": [
        {
          "output_type": "stream",
          "name": "stdout",
          "text": [
            "0\n",
            "1\n",
            "1\n",
            "2\n",
            "3\n",
            "5\n"
          ]
        }
      ]
    },
    {
      "cell_type": "code",
      "source": [
        "#Q6. Write a generator function in Python that yields the powers of 2 up to a given exponenet.\n",
        "def power(n):\n",
        "  for i in range(0,n+1):\n",
        "    yield 2**i"
      ],
      "metadata": {
        "id": "M3TOW_kc_51P"
      },
      "execution_count": null,
      "outputs": []
    },
    {
      "cell_type": "code",
      "source": [
        "pwr= power(4)"
      ],
      "metadata": {
        "id": "-wEijbtkQ_iX"
      },
      "execution_count": null,
      "outputs": []
    },
    {
      "cell_type": "code",
      "source": [
        "next(pwr)"
      ],
      "metadata": {
        "colab": {
          "base_uri": "https://localhost:8080/"
        },
        "id": "AceTeaW8W4ch",
        "outputId": "ddc1d920-5e98-4eb3-a6bd-0596a9e5af1b"
      },
      "execution_count": null,
      "outputs": [
        {
          "output_type": "execute_result",
          "data": {
            "text/plain": [
              "1"
            ]
          },
          "metadata": {},
          "execution_count": 215
        }
      ]
    },
    {
      "cell_type": "code",
      "source": [
        "next(pwr)"
      ],
      "metadata": {
        "colab": {
          "base_uri": "https://localhost:8080/"
        },
        "id": "_5TArDw-W4nI",
        "outputId": "680136b8-2de7-468a-805b-bbf7c5482c1b"
      },
      "execution_count": null,
      "outputs": [
        {
          "output_type": "execute_result",
          "data": {
            "text/plain": [
              "2"
            ]
          },
          "metadata": {},
          "execution_count": 216
        }
      ]
    },
    {
      "cell_type": "code",
      "source": [
        "next(pwr)"
      ],
      "metadata": {
        "colab": {
          "base_uri": "https://localhost:8080/"
        },
        "id": "XVcZemL8XTj3",
        "outputId": "d18d542d-cdd7-4eca-ad2a-471ad713b3e6"
      },
      "execution_count": null,
      "outputs": [
        {
          "output_type": "execute_result",
          "data": {
            "text/plain": [
              "4"
            ]
          },
          "metadata": {},
          "execution_count": 217
        }
      ]
    },
    {
      "cell_type": "code",
      "source": [
        "next(pwr)"
      ],
      "metadata": {
        "colab": {
          "base_uri": "https://localhost:8080/"
        },
        "id": "4jTxVMw_XTqz",
        "outputId": "a0d77e8b-177e-4ba7-c073-1ecd4b5a0992"
      },
      "execution_count": null,
      "outputs": [
        {
          "output_type": "execute_result",
          "data": {
            "text/plain": [
              "8"
            ]
          },
          "metadata": {},
          "execution_count": 218
        }
      ]
    },
    {
      "cell_type": "code",
      "source": [
        "next(pwr)"
      ],
      "metadata": {
        "colab": {
          "base_uri": "https://localhost:8080/"
        },
        "id": "3rfSR3F9XXno",
        "outputId": "61bf2da4-3901-4ca0-b735-51275ce52cf1"
      },
      "execution_count": null,
      "outputs": [
        {
          "output_type": "execute_result",
          "data": {
            "text/plain": [
              "16"
            ]
          },
          "metadata": {},
          "execution_count": 219
        }
      ]
    },
    {
      "cell_type": "code",
      "source": [
        "#Q7. Implement a generator function that reads a file line by line and yields each line as a string.\n",
        "\n",
        "text = \"\"\"Hello, I am a student.\n",
        "I am here to study data science.\n",
        "We are currently studying basics in Python.\n",
        "Got to do homework.\"\"\"\n",
        "\n",
        "def text_to_str(a):\n",
        "    lines = text.split(\"\\n\")\n",
        "    for i in lines:\n",
        "        yield i\n",
        "\n",
        "t1 = text_to_str(text)"
      ],
      "metadata": {
        "id": "hd4YEuRB_6Gm"
      },
      "execution_count": null,
      "outputs": []
    },
    {
      "cell_type": "code",
      "source": [
        "next(t1)"
      ],
      "metadata": {
        "colab": {
          "base_uri": "https://localhost:8080/",
          "height": 35
        },
        "id": "w8FObcsEYfck",
        "outputId": "61f2d1e2-166b-4157-8d1e-cd06e1920a0f"
      },
      "execution_count": null,
      "outputs": [
        {
          "output_type": "execute_result",
          "data": {
            "text/plain": [
              "'Hello, I am a student.'"
            ],
            "application/vnd.google.colaboratory.intrinsic+json": {
              "type": "string"
            }
          },
          "metadata": {},
          "execution_count": 302
        }
      ]
    },
    {
      "cell_type": "code",
      "source": [
        "next(t1)"
      ],
      "metadata": {
        "colab": {
          "base_uri": "https://localhost:8080/",
          "height": 35
        },
        "id": "kPqH06PLYfiF",
        "outputId": "eae5d63a-4046-466f-8a0f-c535c5b2d478"
      },
      "execution_count": null,
      "outputs": [
        {
          "output_type": "execute_result",
          "data": {
            "text/plain": [
              "'I am here to study data science.'"
            ],
            "application/vnd.google.colaboratory.intrinsic+json": {
              "type": "string"
            }
          },
          "metadata": {},
          "execution_count": 295
        }
      ]
    },
    {
      "cell_type": "code",
      "source": [
        "next(t1)"
      ],
      "metadata": {
        "colab": {
          "base_uri": "https://localhost:8080/",
          "height": 35
        },
        "id": "2W12l_M-Yj9U",
        "outputId": "567e477c-91c1-4736-8cb3-d5c3227030d1"
      },
      "execution_count": null,
      "outputs": [
        {
          "output_type": "execute_result",
          "data": {
            "text/plain": [
              "'We are currently studying basics in Python.'"
            ],
            "application/vnd.google.colaboratory.intrinsic+json": {
              "type": "string"
            }
          },
          "metadata": {},
          "execution_count": 296
        }
      ]
    },
    {
      "cell_type": "code",
      "source": [
        "next(t1)"
      ],
      "metadata": {
        "colab": {
          "base_uri": "https://localhost:8080/",
          "height": 35
        },
        "id": "9LNV0nVnYkFT",
        "outputId": "a47c86b3-52e6-4d0a-9e83-7f283e3132c1"
      },
      "execution_count": null,
      "outputs": [
        {
          "output_type": "execute_result",
          "data": {
            "text/plain": [
              "'Got to do homework.'"
            ],
            "application/vnd.google.colaboratory.intrinsic+json": {
              "type": "string"
            }
          },
          "metadata": {},
          "execution_count": 297
        }
      ]
    },
    {
      "cell_type": "code",
      "source": [
        "next(t1)"
      ],
      "metadata": {
        "colab": {
          "base_uri": "https://localhost:8080/",
          "height": 141
        },
        "id": "F2MPtifWZGis",
        "outputId": "25f48673-7a91-4a80-b0a6-c9af51e39be9"
      },
      "execution_count": null,
      "outputs": [
        {
          "output_type": "error",
          "ename": "StopIteration",
          "evalue": "",
          "traceback": [
            "\u001b[0;31m---------------------------------------------------------------------------\u001b[0m",
            "\u001b[0;31mStopIteration\u001b[0m                             Traceback (most recent call last)",
            "\u001b[0;32m<ipython-input-298-8d9276fec067>\u001b[0m in \u001b[0;36m<cell line: 1>\u001b[0;34m()\u001b[0m\n\u001b[0;32m----> 1\u001b[0;31m \u001b[0mnext\u001b[0m\u001b[0;34m(\u001b[0m\u001b[0mt1\u001b[0m\u001b[0;34m)\u001b[0m\u001b[0;34m\u001b[0m\u001b[0;34m\u001b[0m\u001b[0m\n\u001b[0m",
            "\u001b[0;31mStopIteration\u001b[0m: "
          ]
        }
      ]
    },
    {
      "cell_type": "code",
      "source": [
        "#Q8. Use a lamda  function in python to sort a list of tuples based on the second element of each tuple.\n",
        "\n",
        "x=[(1,100,3,4),(3,56,9),(50,70,4)]\n",
        "\n",
        "sorted(x,key=lambda x:x[1])\n"
      ],
      "metadata": {
        "id": "pD4XZGyD_6ON",
        "colab": {
          "base_uri": "https://localhost:8080/"
        },
        "outputId": "60e1a79f-cb81-47ec-bd8b-3bdfb4a102be"
      },
      "execution_count": null,
      "outputs": [
        {
          "output_type": "execute_result",
          "data": {
            "text/plain": [
              "[(3, 56, 9), (50, 70, 4), (1, 100, 3, 4)]"
            ]
          },
          "metadata": {},
          "execution_count": 245
        }
      ]
    },
    {
      "cell_type": "code",
      "source": [
        "#Q9. Write a python program that uses `map()` to convert a list of temperatures from Celsius to Fahrenheit.\n",
        "\n",
        "l1_C=[30,50,120,25,10,1]\n",
        "\n",
        "far= map(lambda x:(x*9/5)+32, l1_C)\n",
        "\n",
        "#The list of temperatures in Fahrenheit\n",
        "print(list(far))\n"
      ],
      "metadata": {
        "id": "LbUTx-vN_6V9",
        "colab": {
          "base_uri": "https://localhost:8080/"
        },
        "outputId": "56f198b4-677c-4e3f-f100-ed5129504221"
      },
      "execution_count": null,
      "outputs": [
        {
          "output_type": "stream",
          "name": "stdout",
          "text": [
            "[86.0, 122.0, 248.0, 77.0, 50.0, 33.8]\n"
          ]
        }
      ]
    },
    {
      "cell_type": "code",
      "source": [
        "#Q10. Create a python program that uses 'filter' to remove all the vowels from a given string.\n",
        "word=input(\"enter the string: \")\n",
        "\n",
        "list(filter(lambda x:x not in(\"a\",\"e\",\"i\",\"o\",\"u\"),word))\n"
      ],
      "metadata": {
        "id": "o6UqENDcBjzs",
        "colab": {
          "base_uri": "https://localhost:8080/"
        },
        "outputId": "ab8cb2c3-50ec-45c2-8ffa-6c4ddf5c166c"
      },
      "execution_count": null,
      "outputs": [
        {
          "name": "stdout",
          "output_type": "stream",
          "text": [
            "enter the string: science\n"
          ]
        },
        {
          "output_type": "execute_result",
          "data": {
            "text/plain": [
              "['s', 'c', 'n', 'c']"
            ]
          },
          "metadata": {},
          "execution_count": 252
        }
      ]
    },
    {
      "cell_type": "code",
      "source": [
        "#Q11. Imagine a accounting routine used in a book shop. It works on a list with sublists, which look like this:\n",
        "#Order\t  Number\tBook Title & Author  \t  Quantity\t  Price per Item\n",
        "#34587\t\tLearning Python, Mark Lutz\t        4\t      40.95\n",
        "#98762\t\tProgramming Python, Mark Lutz\t      5\t      56.80\n",
        "#77226\t\tHead First Python, Paul Barry     \t3\t      32.95\n",
        "#88112\t\tEinfDhrung in Python3, Bernd Klein\t3\t      24.99\n",
        "\n",
        "#Write a Python program, which returns a list with 2-tuples. Each tuple consists of the order number and the product of the price per item and the quantity.\n",
        "#The product should be increased by 10 euro if the value of the order is smaller than 100.00 euro.\n",
        "\n",
        "#Write a Python program using lambda and map.\n"
      ],
      "metadata": {
        "id": "B5pt_eDBBj0o"
      },
      "execution_count": null,
      "outputs": []
    },
    {
      "cell_type": "code",
      "source": [
        "#input- list within list\n",
        "\n",
        "orders= [[34587, \"Learning Python, Mark Lutz\", 4, 40.95], [98762, \"Programming Python, Mark Lutz\", 5, 56.80],[77226, \"Head First Python, Paul Barry\", 3, 32.95],\n",
        "[88112, \"EinfDhrung in Python3, Bernd Klein\", 3, 24.99]]\n",
        "\n",
        "print(orders)"
      ],
      "metadata": {
        "colab": {
          "base_uri": "https://localhost:8080/"
        },
        "id": "QBUSHQSqqiIN",
        "outputId": "96acf1ab-f1a5-4119-e448-0d88469eccaa"
      },
      "execution_count": null,
      "outputs": [
        {
          "output_type": "stream",
          "name": "stdout",
          "text": [
            "[[34587, 'Learning Python, Mark Lutz', 4, 40.95], [98762, 'Programming Python, Mark Lutz', 5, 56.8], [77226, 'Head First Python, Paul Barry', 3, 32.95], [88112, 'EinfDhrung in Python3, Bernd Klein', 3, 24.99]]\n"
          ]
        }
      ]
    },
    {
      "cell_type": "code",
      "source": [
        "main_func = lambda x:(x[0],round(x[2]*x[3] + (10 if x[2]*x[3]<100 else 0),2))"
      ],
      "metadata": {
        "id": "i8qttxingjnY"
      },
      "execution_count": null,
      "outputs": []
    },
    {
      "cell_type": "code",
      "source": [
        "result = list(map(main_func,orders))"
      ],
      "metadata": {
        "id": "uhmqZfjZJJB5"
      },
      "execution_count": null,
      "outputs": []
    },
    {
      "cell_type": "code",
      "source": [
        "print(result)"
      ],
      "metadata": {
        "colab": {
          "base_uri": "https://localhost:8080/"
        },
        "id": "efiCfixPJMpn",
        "outputId": "1a508835-c5d8-485e-8d24-4624993348ac"
      },
      "execution_count": null,
      "outputs": [
        {
          "output_type": "stream",
          "name": "stdout",
          "text": [
            "[(34587, 163.8), (98762, 284.0), (77226, 108.85), (88112, 84.97)]\n"
          ]
        }
      ]
    },
    {
      "cell_type": "code",
      "source": [],
      "metadata": {
        "id": "z5L-zho-JSIH"
      },
      "execution_count": null,
      "outputs": []
    }
  ]
}