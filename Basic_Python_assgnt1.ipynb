{
  "nbformat": 4,
  "nbformat_minor": 0,
  "metadata": {
    "colab": {
      "provenance": []
    },
    "kernelspec": {
      "name": "python3",
      "display_name": "Python 3"
    },
    "language_info": {
      "name": "python"
    }
  },
  "cells": [
    {
      "cell_type": "markdown",
      "source": [
        "PYTHON BASICS QUESTION"
      ],
      "metadata": {
        "id": "2DvcPIW6nMCp"
      }
    },
    {
      "cell_type": "markdown",
      "source": [
        "Q1. What is Python, and why is it popular?\n",
        "\n",
        "A1. Python is a programming language and it is popular because it is easy to learn and use, has wide industry usage, extensive library, open source for everyone to learn and use.It also has cross platform compatibility, a huge active community and versatile in usage for example in data analysis, machine learning and AI.\n",
        "\n",
        "---\n",
        "\n",
        "Q2. What is an interpreter in Python?\n",
        "\n",
        "A2. In Python an Integrated development environment(IDEs) would act as an interpreter, which helps to compile and decode the code in the environment. Eg:- Jupyter notebook,etc.\n",
        "\n",
        "\n",
        "---\n",
        "\n",
        "\n",
        "Q3. What are pre-defined Keywords in Python?\n",
        "\n",
        "A3. The Pre-defined Keywords in Python are those keywords that already has reserved meaning and purpose. It should not be used as a variable name or function name, etc. Keywords example are as follows- False, True, if, for,etc.\n",
        "\n",
        "\n",
        "---\n",
        "\n",
        "\n",
        "Q4. Can Keywords can be used as variable names?\n",
        "\n",
        "A4. Keywords can not be used as variable names as they have preassigned meaning. Using a keyword as a variable name would result in a syntax error, as it would interfere with Python's ability to interpret the code correctly.\n",
        "\n",
        "\n",
        "---\n",
        "\n",
        "\n",
        "Q5. What is mutability in Python?\n",
        "\n",
        "A5. In Python, mutability is the ability of an object to be modified or changed after its creation. An object in Python can be either mutable or immutable. Lists, dictionary and sets are mutable.\n",
        "\n",
        "\n",
        "---\n",
        "\n",
        "\n",
        "Q6. Why are lists mutable, but tuple are immutable?\n",
        "\n",
        "A6. Lists are mutable, as they are designed to have their elememts changed, while tuple was made to be immutable to have a fixed collection of elements.Tuples would keep the integrity of the data and lists used where data manipulation would take place.Tuples are more memory efficent than lists as the elements are fixed in the former.\n",
        "\n",
        "\n",
        "---\n",
        "\n",
        "\n",
        "Q7. what is the difference between \"==\" and \"is\" operator?\n",
        "\n",
        "A7. The '==' is a comparision operator and \"is\" is an identity operator. The \"==\" would check for value of the variables, while \"is\" would check the location of both the variable or object.\n",
        "\n",
        "\n",
        "---\n",
        "\n"
      ],
      "metadata": {
        "id": "yvxVE4P5nSov"
      }
    },
    {
      "cell_type": "markdown",
      "source": [
        "Q8. What are logical operators in Python?\n",
        "\n",
        "A8. Logical operators in Python are AND- gives True only when both conditions are true, OR- gives True when atleast when one condition is true and NOT is used to negate any condition.\n",
        "\n",
        "\n",
        "---\n",
        "\n",
        "\n",
        "\n",
        "Q9. What is type casting in Python?\n",
        "\n",
        "A9. Type casting is when we convert the datatype from the existing to another. Type casting is usually used for doing arithmetic operations and data manipulation in Python programs.For example, converting from string to integer using int() or converting from integer to boolean using bool() which are in-built functions.\n",
        "\n",
        "\n",
        "\n",
        "---\n",
        "\n",
        "\n",
        "\n",
        "Q10. What is the difference between implicit and explicit type casting?\n",
        "\n",
        "A10. Implicit type casting is when Python automatically ascertains the type of the data. Explicit typecasting means when the user manually converts the type of the data using functions like int(), bool, str(),float(), etc.\n",
        "\n",
        "\n",
        "\n",
        "---\n",
        "\n",
        "\n",
        "\n",
        "Q11. What is the purpose of conditional statements in Python?\n",
        "\n",
        "A11. Conditional statements in Python are used to execute the code if the conditions are True. The condition could be one or more depending on the problem statement. if, if-else, if-elif-else, nested if-else are some of the conditional statements syntaxs used in Python.\n",
        "\n",
        "\n",
        "\n",
        "\n",
        "---\n",
        "\n",
        "\n",
        "\n",
        "Q12. How does elif statement work?\n",
        "\n",
        "A12. The elif statement is used in combination with if statement when there are multiple conditions to be tested and ends with else statement.\n",
        "\n",
        "if condition1:\n",
        "  Code block for condition1\n",
        "elif condition2:\n",
        "  Code block for condition2\n",
        "else:\n",
        "  Code block if all conditions are False\n",
        "\n",
        "\n",
        "\n",
        "\n",
        "---\n",
        "\n",
        "\n",
        "\n",
        "\n",
        "\n",
        "Q13. What is the differnce between for and while loop?\n",
        "\n",
        "A13. For loop is used for iterating over a sequence, the loops end automatically when the elements are done. While loop is used to execute a block of code as long as the condition is True and stops when conditons become False. While loop could lead to infinite loops if the conditions are not set properly.In For loop the tendency for infinite loops are low as number of iterations are fixed or predefined.\n",
        "\n",
        "\n",
        "\n",
        "---\n",
        "\n",
        "\n",
        "\n",
        "Q14. Describe a scenario where a while loop is better suited than for loop?\n",
        "\n",
        "A14. While loop could be used in a situation where input is taken from the user and until the answer provided does not match with the condition it keeps on running. For example, taking username and password from user and until it does not match to the correct condition(username & password) the loop keeps on running.\n",
        "\n",
        "\n",
        "\n",
        "---\n",
        "\n"
      ],
      "metadata": {
        "id": "KI-xqJXB3oh8"
      }
    },
    {
      "cell_type": "markdown",
      "source": [
        "Practical Questions"
      ],
      "metadata": {
        "id": "SbOaLivIGqW_"
      }
    },
    {
      "cell_type": "code",
      "execution_count": 79,
      "metadata": {
        "colab": {
          "base_uri": "https://localhost:8080/"
        },
        "id": "mY7qBJPflNGA",
        "outputId": "3d55afe0-5198-4297-a613-89c1c79a8de0"
      },
      "outputs": [
        {
          "output_type": "stream",
          "name": "stdout",
          "text": [
            "Hello, World!\n"
          ]
        }
      ],
      "source": [
        "#Q1. Write a Python Program to print \"Hello, World!\"\n",
        "\n",
        "print(\"Hello, World!\")"
      ]
    },
    {
      "cell_type": "code",
      "source": [
        "#Q2. Write a Python program to display your name and age.\n",
        "\n",
        "name= input(\"Please enter your name:\")\n",
        "age = input(\"Please enter your age:\")\n",
        "print(\"My name is\",name)\n",
        "print(\"My age is\",age)"
      ],
      "metadata": {
        "colab": {
          "base_uri": "https://localhost:8080/"
        },
        "id": "xOvthDcLrQDD",
        "outputId": "3c7b80b9-a8fe-43a2-8188-4d20b0fd9370"
      },
      "execution_count": 80,
      "outputs": [
        {
          "output_type": "stream",
          "name": "stdout",
          "text": [
            "Please enter your name:mouse\n",
            "Please enter your age:34\n",
            "My name is mouse\n",
            "My age is 34\n"
          ]
        }
      ]
    },
    {
      "cell_type": "code",
      "source": [
        "#Q3. Write code to print all the pre-defined keywords in Python using the keywords library.\n",
        "help('keywords')"
      ],
      "metadata": {
        "colab": {
          "base_uri": "https://localhost:8080/"
        },
        "id": "6cf54GolrxYl",
        "outputId": "0a6771e8-b0d7-4d0f-911c-01e7928da2da"
      },
      "execution_count": 81,
      "outputs": [
        {
          "output_type": "stream",
          "name": "stdout",
          "text": [
            "\n",
            "Here is a list of the Python keywords.  Enter any keyword to get more help.\n",
            "\n",
            "False               class               from                or\n",
            "None                continue            global              pass\n",
            "True                def                 if                  raise\n",
            "and                 del                 import              return\n",
            "as                  elif                in                  try\n",
            "assert              else                is                  while\n",
            "async               except              lambda              with\n",
            "await               finally             nonlocal            yield\n",
            "break               for                 not                 \n",
            "\n"
          ]
        }
      ]
    },
    {
      "cell_type": "code",
      "source": [
        "#Q4. Write a program that checks if a given word is a Python Keyword?\n",
        "import keyword\n",
        "word = input(\"Enter a word to check if it's a Python keyword: \")\n",
        "\n",
        "python_keywords = keyword.kwlist\n",
        "\n",
        "if word in python_keywords:\n",
        "  print(\"It is Python keyword.\")\n",
        "else:\n",
        "  print(\"It is not a Python keyword.\")"
      ],
      "metadata": {
        "colab": {
          "base_uri": "https://localhost:8080/"
        },
        "id": "chT1_kCOuJBL",
        "outputId": "1ecfd535-94a7-45e8-a94f-0c94127d693b"
      },
      "execution_count": 82,
      "outputs": [
        {
          "output_type": "stream",
          "name": "stdout",
          "text": [
            "Enter a word to check if it's a Python keyword: you\n",
            "It is not a Python keyword.\n"
          ]
        }
      ]
    },
    {
      "cell_type": "code",
      "source": [
        "#Q5. Create a list and tuple in Python, and demonstrate how attempting to change an element works differently for each?\n",
        "\n",
        "#Answer- The lists is mutable, hence the lists[3] (i.e an element) can be changed from 'me' to 'all of us'\n",
        "lists=[1,2,'you','me']\n",
        "\n",
        "lists[3]= \"all of us\"\n",
        "\n",
        "lists"
      ],
      "metadata": {
        "colab": {
          "base_uri": "https://localhost:8080/"
        },
        "id": "c31bhNNj2aaL",
        "outputId": "2b8489c6-8ca0-4018-89d1-5ad3c1b1802c"
      },
      "execution_count": 83,
      "outputs": [
        {
          "output_type": "execute_result",
          "data": {
            "text/plain": [
              "[1, 2, 'you', 'all of us']"
            ]
          },
          "metadata": {},
          "execution_count": 83
        }
      ]
    },
    {
      "cell_type": "code",
      "source": [
        "tuple1=(1,2,3,4)\n",
        "\n",
        "tuple1[0]=4\n",
        "\n",
        "tuple1\n"
      ],
      "metadata": {
        "colab": {
          "base_uri": "https://localhost:8080/",
          "height": 211
        },
        "id": "FXtMHGzi4FJE",
        "outputId": "493e9b34-60c4-44e2-f45c-89114cbf206a"
      },
      "execution_count": 84,
      "outputs": [
        {
          "output_type": "error",
          "ename": "TypeError",
          "evalue": "'tuple' object does not support item assignment",
          "traceback": [
            "\u001b[0;31m---------------------------------------------------------------------------\u001b[0m",
            "\u001b[0;31mTypeError\u001b[0m                                 Traceback (most recent call last)",
            "\u001b[0;32m<ipython-input-84-5011d08d8ec1>\u001b[0m in \u001b[0;36m<cell line: 3>\u001b[0;34m()\u001b[0m\n\u001b[1;32m      1\u001b[0m \u001b[0mtuple1\u001b[0m\u001b[0;34m=\u001b[0m\u001b[0;34m(\u001b[0m\u001b[0;36m1\u001b[0m\u001b[0;34m,\u001b[0m\u001b[0;36m2\u001b[0m\u001b[0;34m,\u001b[0m\u001b[0;36m3\u001b[0m\u001b[0;34m,\u001b[0m\u001b[0;36m4\u001b[0m\u001b[0;34m)\u001b[0m\u001b[0;34m\u001b[0m\u001b[0;34m\u001b[0m\u001b[0m\n\u001b[1;32m      2\u001b[0m \u001b[0;34m\u001b[0m\u001b[0m\n\u001b[0;32m----> 3\u001b[0;31m \u001b[0mtuple1\u001b[0m\u001b[0;34m[\u001b[0m\u001b[0;36m0\u001b[0m\u001b[0;34m]\u001b[0m\u001b[0;34m=\u001b[0m\u001b[0;36m4\u001b[0m\u001b[0;34m\u001b[0m\u001b[0;34m\u001b[0m\u001b[0m\n\u001b[0m\u001b[1;32m      4\u001b[0m \u001b[0;34m\u001b[0m\u001b[0m\n\u001b[1;32m      5\u001b[0m \u001b[0mtuple1\u001b[0m\u001b[0;34m\u001b[0m\u001b[0;34m\u001b[0m\u001b[0m\n",
            "\u001b[0;31mTypeError\u001b[0m: 'tuple' object does not support item assignment"
          ]
        }
      ]
    },
    {
      "cell_type": "code",
      "source": [
        "#Q6. Write a function to demonstrate the behaviour of mutable and immutable arguments. #Q6 & Q7 are the same in question paper.\n",
        "\n",
        "#For Mutable arguments- Lists,\n",
        "\n",
        "a=[1,2,3,\"world\"] #before modification\n",
        "a"
      ],
      "metadata": {
        "colab": {
          "base_uri": "https://localhost:8080/"
        },
        "id": "pxTI1l9PKGIp",
        "outputId": "954410af-7a57-4454-8733-b5374615dabf"
      },
      "execution_count": 85,
      "outputs": [
        {
          "output_type": "execute_result",
          "data": {
            "text/plain": [
              "[1, 2, 3, 'world']"
            ]
          },
          "metadata": {},
          "execution_count": 85
        }
      ]
    },
    {
      "cell_type": "code",
      "source": [
        "a[3]=\"Hello-World\""
      ],
      "metadata": {
        "id": "olGCJleDT2fI"
      },
      "execution_count": 86,
      "outputs": []
    },
    {
      "cell_type": "code",
      "source": [
        "a #After modification"
      ],
      "metadata": {
        "colab": {
          "base_uri": "https://localhost:8080/"
        },
        "id": "PU89-ZBeUU0P",
        "outputId": "b9388895-4dc4-4151-e944-996899a6a0a8"
      },
      "execution_count": 87,
      "outputs": [
        {
          "output_type": "execute_result",
          "data": {
            "text/plain": [
              "[1, 2, 3, 'Hello-World']"
            ]
          },
          "metadata": {},
          "execution_count": 87
        }
      ]
    },
    {
      "cell_type": "code",
      "source": [
        "#For Immutable arguments- String,\n",
        "\n",
        "a=\"Warld\" #before modification\n",
        "a"
      ],
      "metadata": {
        "colab": {
          "base_uri": "https://localhost:8080/",
          "height": 35
        },
        "id": "0qQgHpC4UU8P",
        "outputId": "947b7f6d-1393-4299-a35c-ebb06b9b7de0"
      },
      "execution_count": 88,
      "outputs": [
        {
          "output_type": "execute_result",
          "data": {
            "text/plain": [
              "'Warld'"
            ],
            "application/vnd.google.colaboratory.intrinsic+json": {
              "type": "string"
            }
          },
          "metadata": {},
          "execution_count": 88
        }
      ]
    },
    {
      "cell_type": "code",
      "source": [
        "a[1]=\"o\""
      ],
      "metadata": {
        "colab": {
          "base_uri": "https://localhost:8080/",
          "height": 141
        },
        "id": "-VXQC057Ue4Y",
        "outputId": "96cfca75-8c06-4edd-e7fc-41f118b59def"
      },
      "execution_count": 89,
      "outputs": [
        {
          "output_type": "error",
          "ename": "TypeError",
          "evalue": "'str' object does not support item assignment",
          "traceback": [
            "\u001b[0;31m---------------------------------------------------------------------------\u001b[0m",
            "\u001b[0;31mTypeError\u001b[0m                                 Traceback (most recent call last)",
            "\u001b[0;32m<ipython-input-89-0e1848735dc4>\u001b[0m in \u001b[0;36m<cell line: 1>\u001b[0;34m()\u001b[0m\n\u001b[0;32m----> 1\u001b[0;31m \u001b[0ma\u001b[0m\u001b[0;34m[\u001b[0m\u001b[0;36m1\u001b[0m\u001b[0;34m]\u001b[0m\u001b[0;34m=\u001b[0m\u001b[0;34m\"o\"\u001b[0m\u001b[0;34m\u001b[0m\u001b[0;34m\u001b[0m\u001b[0m\n\u001b[0m",
            "\u001b[0;31mTypeError\u001b[0m: 'str' object does not support item assignment"
          ]
        }
      ]
    },
    {
      "cell_type": "code",
      "source": [
        "a  #After modification- As string is immutable, changes can not be done once the string is created."
      ],
      "metadata": {
        "colab": {
          "base_uri": "https://localhost:8080/",
          "height": 35
        },
        "id": "LxkEDW5PUe-3",
        "outputId": "b181ff0b-501a-4ea5-8aba-141d738d808a"
      },
      "execution_count": 90,
      "outputs": [
        {
          "output_type": "execute_result",
          "data": {
            "text/plain": [
              "'Warld'"
            ],
            "application/vnd.google.colaboratory.intrinsic+json": {
              "type": "string"
            }
          },
          "metadata": {},
          "execution_count": 90
        }
      ]
    },
    {
      "cell_type": "code",
      "source": [
        "#Q8. write a program to demonstrate use of logical operators?\n",
        "\n",
        "a= int(input(\"Enter any number for a: \"))\n",
        "b=int(input(\"Enter any number for b: \"))\n",
        "\n",
        "if a>0 and b>0:\n",
        "  print(\"Both the numbers are positive\")\n",
        "elif (a<0 and b>0) or (a>0 and not b>0):\n",
        "  print(\"a or b is negative\")\n",
        "else:\n",
        "  print(\"both are negative\")\n",
        "\n"
      ],
      "metadata": {
        "colab": {
          "base_uri": "https://localhost:8080/"
        },
        "id": "PfWG-WhFKw73",
        "outputId": "49f3033e-f1e5-4cea-c936-09635b3d03d3"
      },
      "execution_count": 91,
      "outputs": [
        {
          "output_type": "stream",
          "name": "stdout",
          "text": [
            "Enter any number for a: -7\n",
            "Enter any number for b: 8\n",
            "a or b is negative\n"
          ]
        }
      ]
    },
    {
      "cell_type": "code",
      "source": [
        "#Q9. Write a Python program to convert user input from string to integer, float and boolean type.\n",
        "#input converts all the input value into string\n",
        "a= input(\"Please enter a integer value: \")"
      ],
      "metadata": {
        "colab": {
          "base_uri": "https://localhost:8080/"
        },
        "id": "E0ULIUmCKw4Y",
        "outputId": "20546465-fd14-4341-8ea6-5169d5c94914"
      },
      "execution_count": 94,
      "outputs": [
        {
          "name": "stdout",
          "output_type": "stream",
          "text": [
            "Please enter a integer value: 7\n"
          ]
        }
      ]
    },
    {
      "cell_type": "code",
      "source": [
        "a"
      ],
      "metadata": {
        "colab": {
          "base_uri": "https://localhost:8080/",
          "height": 35
        },
        "id": "DUxUMm8cOkNJ",
        "outputId": "8e9e3ac2-e06d-48e0-a2f0-49d22ed60039"
      },
      "execution_count": 95,
      "outputs": [
        {
          "output_type": "execute_result",
          "data": {
            "text/plain": [
              "'7'"
            ],
            "application/vnd.google.colaboratory.intrinsic+json": {
              "type": "string"
            }
          },
          "metadata": {},
          "execution_count": 95
        }
      ]
    },
    {
      "cell_type": "code",
      "source": [
        "type(a)"
      ],
      "metadata": {
        "colab": {
          "base_uri": "https://localhost:8080/"
        },
        "id": "71zzrYjXOr9e",
        "outputId": "479095e3-4aab-4893-c353-ee39512c8ba1"
      },
      "execution_count": 96,
      "outputs": [
        {
          "output_type": "execute_result",
          "data": {
            "text/plain": [
              "str"
            ]
          },
          "metadata": {},
          "execution_count": 96
        }
      ]
    },
    {
      "cell_type": "code",
      "source": [
        "int(a)"
      ],
      "metadata": {
        "colab": {
          "base_uri": "https://localhost:8080/"
        },
        "id": "hAe5qS9sOAd_",
        "outputId": "5aca6eff-59d7-4061-84f3-6ed7b6ac998d"
      },
      "execution_count": 97,
      "outputs": [
        {
          "output_type": "execute_result",
          "data": {
            "text/plain": [
              "7"
            ]
          },
          "metadata": {},
          "execution_count": 97
        }
      ]
    },
    {
      "cell_type": "code",
      "source": [
        "a= float(input(\"Please enter a float value: \"))\n",
        "type(a)"
      ],
      "metadata": {
        "colab": {
          "base_uri": "https://localhost:8080/"
        },
        "id": "5le7g5kuKwz_",
        "outputId": "70441559-2eec-4487-825e-cf105d63e167"
      },
      "execution_count": 98,
      "outputs": [
        {
          "name": "stdout",
          "output_type": "stream",
          "text": [
            "Please enter a float value: 7.8\n"
          ]
        },
        {
          "output_type": "execute_result",
          "data": {
            "text/plain": [
              "float"
            ]
          },
          "metadata": {},
          "execution_count": 98
        }
      ]
    },
    {
      "cell_type": "code",
      "source": [
        "a= bool(input(\"Please enter a boolean value: \"))\n",
        "type(a)"
      ],
      "metadata": {
        "colab": {
          "base_uri": "https://localhost:8080/"
        },
        "id": "dOvit2AlMl3A",
        "outputId": "bdfb99eb-4627-4952-c95e-30c4649b24f7"
      },
      "execution_count": 99,
      "outputs": [
        {
          "name": "stdout",
          "output_type": "stream",
          "text": [
            "Please enter a boolean value: 7\n"
          ]
        },
        {
          "output_type": "execute_result",
          "data": {
            "text/plain": [
              "bool"
            ]
          },
          "metadata": {},
          "execution_count": 99
        }
      ]
    },
    {
      "cell_type": "code",
      "source": [
        "a"
      ],
      "metadata": {
        "colab": {
          "base_uri": "https://localhost:8080/"
        },
        "id": "nNRO3ZTyUFjI",
        "outputId": "74929b6a-ec97-4e51-c7fe-89b2e371151f"
      },
      "execution_count": 100,
      "outputs": [
        {
          "output_type": "execute_result",
          "data": {
            "text/plain": [
              "True"
            ]
          },
          "metadata": {},
          "execution_count": 100
        }
      ]
    },
    {
      "cell_type": "code",
      "source": [
        "#Q10. Write a code to demonstrate typecasting with list elements.\n",
        "\n",
        "a= [1,4,5.0,\"ajay\",True]\n",
        "type(a)"
      ],
      "metadata": {
        "colab": {
          "base_uri": "https://localhost:8080/"
        },
        "id": "84D0irjAM3TA",
        "outputId": "9ebd4ed1-8096-433a-8fea-e39a50f9be67"
      },
      "execution_count": 101,
      "outputs": [
        {
          "output_type": "execute_result",
          "data": {
            "text/plain": [
              "list"
            ]
          },
          "metadata": {},
          "execution_count": 101
        }
      ]
    },
    {
      "cell_type": "code",
      "source": [
        "type(a[0])"
      ],
      "metadata": {
        "colab": {
          "base_uri": "https://localhost:8080/"
        },
        "id": "ex4FxW0pVkJ4",
        "outputId": "4fb4cbd0-2d90-4d64-a7bd-e2dfd89759d4"
      },
      "execution_count": 102,
      "outputs": [
        {
          "output_type": "execute_result",
          "data": {
            "text/plain": [
              "int"
            ]
          },
          "metadata": {},
          "execution_count": 102
        }
      ]
    },
    {
      "cell_type": "code",
      "source": [
        "type(a[2])"
      ],
      "metadata": {
        "colab": {
          "base_uri": "https://localhost:8080/"
        },
        "id": "A6rSayexVoYM",
        "outputId": "ad0f676a-01a4-4c3c-899f-ffe7c64a2feb"
      },
      "execution_count": 103,
      "outputs": [
        {
          "output_type": "execute_result",
          "data": {
            "text/plain": [
              "float"
            ]
          },
          "metadata": {},
          "execution_count": 103
        }
      ]
    },
    {
      "cell_type": "code",
      "source": [
        "type(a[3])"
      ],
      "metadata": {
        "colab": {
          "base_uri": "https://localhost:8080/"
        },
        "id": "U2SUPz3OVtrw",
        "outputId": "b771506e-a615-4be1-b76f-2913c640f836"
      },
      "execution_count": 104,
      "outputs": [
        {
          "output_type": "execute_result",
          "data": {
            "text/plain": [
              "str"
            ]
          },
          "metadata": {},
          "execution_count": 104
        }
      ]
    },
    {
      "cell_type": "code",
      "source": [
        "type(a[4])  #In lists there is implicit typecasting."
      ],
      "metadata": {
        "colab": {
          "base_uri": "https://localhost:8080/"
        },
        "id": "mK8ftwwpV0yO",
        "outputId": "844b1b99-f2ae-4e51-be1b-ebac6b0b52c8"
      },
      "execution_count": 105,
      "outputs": [
        {
          "output_type": "execute_result",
          "data": {
            "text/plain": [
              "bool"
            ]
          },
          "metadata": {},
          "execution_count": 105
        }
      ]
    },
    {
      "cell_type": "code",
      "source": [
        "#The a[2] is changed from 5.0 to 5 and python recognises itself that data type changed from float to integer.\n",
        "a[2]=5\n",
        "a"
      ],
      "metadata": {
        "colab": {
          "base_uri": "https://localhost:8080/"
        },
        "id": "ZGpzkCNEXkjU",
        "outputId": "13f9ae0d-98d7-4550-922e-dc1ce7f7146d"
      },
      "execution_count": 106,
      "outputs": [
        {
          "output_type": "execute_result",
          "data": {
            "text/plain": [
              "[1, 4, 5, 'ajay', True]"
            ]
          },
          "metadata": {},
          "execution_count": 106
        }
      ]
    },
    {
      "cell_type": "code",
      "source": [
        "type(a[2])"
      ],
      "metadata": {
        "colab": {
          "base_uri": "https://localhost:8080/"
        },
        "id": "X4SKuyXOXpda",
        "outputId": "d7be0e8c-bd31-4ac8-e76d-6ecd20005b9a"
      },
      "execution_count": 107,
      "outputs": [
        {
          "output_type": "execute_result",
          "data": {
            "text/plain": [
              "int"
            ]
          },
          "metadata": {},
          "execution_count": 107
        }
      ]
    },
    {
      "cell_type": "code",
      "source": [
        "#Q11. Write a program that checks if a number is positive, negative or zero.\n",
        "\n",
        "num=int(input(\"Please enter a number: \"))\n",
        "\n",
        "if num>0:\n",
        "  print(\"The number is positive\")\n",
        "elif num<0:\n",
        "  print(\"The number is negative\")\n",
        "else:\n",
        "  print(\"The number is zero\")"
      ],
      "metadata": {
        "colab": {
          "base_uri": "https://localhost:8080/"
        },
        "id": "6hr2wKipNmzB",
        "outputId": "bc3cace2-eb6a-4827-901f-4901dbfedeea"
      },
      "execution_count": 108,
      "outputs": [
        {
          "output_type": "stream",
          "name": "stdout",
          "text": [
            "Please enter a number: 8\n",
            "The number is positive\n"
          ]
        }
      ]
    },
    {
      "cell_type": "code",
      "source": [
        "#Q12. Write a for loop to print numbers from 1 to 10.\n",
        "\n",
        "for i in range(0,10,1):\n",
        "  print(i+1)\n",
        "  i=i+1"
      ],
      "metadata": {
        "colab": {
          "base_uri": "https://localhost:8080/"
        },
        "id": "Gcw3v7sUPunv",
        "outputId": "ffeee43a-2f40-4404-d2ac-de420d4c90f4"
      },
      "execution_count": 109,
      "outputs": [
        {
          "output_type": "stream",
          "name": "stdout",
          "text": [
            "1\n",
            "2\n",
            "3\n",
            "4\n",
            "5\n",
            "6\n",
            "7\n",
            "8\n",
            "9\n",
            "10\n"
          ]
        }
      ]
    },
    {
      "cell_type": "code",
      "source": [
        "#Q13. Write a Python program to find sum of all even numbers between 1 and 50.\n",
        "sum_nums=0\n",
        "\n",
        "for i in range(1,51):\n",
        "  if (i)%2 == 0:\n",
        "     sum_nums= sum_nums+i\n",
        "print(\"The sum of all even numbers between 1 and 50 is\", sum_nums)\n",
        "\n",
        ""
      ],
      "metadata": {
        "colab": {
          "base_uri": "https://localhost:8080/"
        },
        "id": "UTj7iZi-QJDV",
        "outputId": "2bd1e2c3-cab9-44b9-9cd1-fc8797150641"
      },
      "execution_count": 110,
      "outputs": [
        {
          "output_type": "stream",
          "name": "stdout",
          "text": [
            "The sum of all even numbers between 1 and 50 is 650\n"
          ]
        }
      ]
    },
    {
      "cell_type": "code",
      "source": [
        "#Q14. Write a program to reverse a string using while loop.\n",
        "\n",
        "a= input(\"PLease enter a string: \")\n",
        "i=len(a)\n",
        "rev_a=\"\"\n",
        "\n",
        "while i>0:\n",
        "  rev_a=rev_a+a[i-1]\n",
        "  i=i-1\n",
        "print(rev_a)"
      ],
      "metadata": {
        "colab": {
          "base_uri": "https://localhost:8080/"
        },
        "id": "VGC11FVtSgbc",
        "outputId": "26288481-75c9-4baa-ac1d-ef14f9631f10"
      },
      "execution_count": 111,
      "outputs": [
        {
          "output_type": "stream",
          "name": "stdout",
          "text": [
            "PLease enter a string: hello world\n",
            "dlrow olleh\n"
          ]
        }
      ]
    },
    {
      "cell_type": "code",
      "source": [
        "#Q15. Write a program to calculate factorial of number provided by user using while loop\n",
        "\n",
        "num=int(input(\"Please enter a number whose factorial to be calculated:\"))\n",
        "\n",
        "fact=1\n",
        "i=1\n",
        "while i <= num:\n",
        "  fact= fact*i\n",
        "  i=i+1\n",
        "print(\"The factorial of\",num,\"is\",fact)\n"
      ],
      "metadata": {
        "colab": {
          "base_uri": "https://localhost:8080/"
        },
        "id": "5RCSerVGVqZ2",
        "outputId": "05a84d99-0312-4efa-a5e5-bba5e765b78e"
      },
      "execution_count": 112,
      "outputs": [
        {
          "output_type": "stream",
          "name": "stdout",
          "text": [
            "Please enter a number whose factorial to be calculated:8\n",
            "The factorial of 8 is 40320\n"
          ]
        }
      ]
    },
    {
      "cell_type": "code",
      "source": [],
      "metadata": {
        "id": "T9GovVUtwEtd"
      },
      "execution_count": 112,
      "outputs": []
    }
  ]
}
