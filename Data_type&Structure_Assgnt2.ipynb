{
  "nbformat": 4,
  "nbformat_minor": 0,
  "metadata": {
    "colab": {
      "provenance": []
    },
    "kernelspec": {
      "name": "python3",
      "display_name": "Python 3"
    },
    "language_info": {
      "name": "python"
    }
  },
  "cells": [
    {
      "cell_type": "markdown",
      "source": [
        "Assignment-2\n",
        "\n",
        "Data Type and Structure"
      ],
      "metadata": {
        "id": "7e7b1Hq-A_LU"
      }
    },
    {
      "cell_type": "markdown",
      "source": [
        "Q1. What are Data structures and why are they important?\n",
        "\n",
        "A1. Data structures are containers to store, organise and access collections of data efficiently.It is used for access and manipulation of data according users needs.\n",
        "\n",
        "\n",
        "---\n",
        "Q2. Explain the difference between mutable and immutable data types with examples?\n",
        "\n",
        "A2.Mutable data types are the ones which once created the data stored in those containers can be changed, for example- lists and sets. Immutable data types are those whose content can not be changed after its creation, for example- strings, tuples.\n",
        "\n",
        "---\n",
        "Q3. What are the main difference between lists and tuple in Python?\n",
        "\n",
        "A3. The main difference between lists and tuple is lists are mutable and tuples are immutable.Tuples are used to represent collection of related values while lists could contain anything like a grocery bag data.\n",
        "\n",
        "---\n",
        "Q4. Describe how dictionaries store data.\n",
        "\n",
        "A4. Dictionaries store value in key-value pairs. The keys are unique,immutable and of any data type, so cannot be changed once made. While values can be changed or are mutable. They were unordered earlier but from Python verion 3.7 the output is ordered. They are presented by { } and the key and value is separated by colon.  \n",
        "\n",
        "---\n",
        "Q5. Why might you use a set instead of a list in Python?\n",
        "\n",
        "A5. Sets are unordered and unique elements collection. While lists are ordered and mutable collection of elements of any data types. So, when you want the collection elements to be unique and no duplicates present then sets would be preferred.\n",
        "Also, mathematical operations lke union, intersection, difference and symmetric difference can done on sets while lists would require custom implementation. Sets can be used to check membership like if an item exists in the set or not.\n",
        "\n",
        "\n",
        "---\n",
        "\n",
        "\n",
        "Q6. What is a string in Python, and how is it different from a list?\n",
        "\n",
        "A6. String is an ordered collection of characters which is represented between \"\" or '' and used to represent text data. While list is an ordered collection of elements of any data types, represented in square brackets.\n",
        "\n",
        "\n",
        "---\n",
        "\n",
        "\n",
        "Q7. How do tuples ensure data integrity in Python?\n",
        "\n",
        "A7. Tuples ensure data integrity in python by being immutable. Once a tuple is created no changes can be done to the tuple.\n",
        "\n",
        "\n",
        "\n",
        "---\n",
        "\n",
        "\n",
        "Q8. What is a hash table, and how does it relate to dictionaries in Python?\n",
        "\n",
        "A8.A hash table is a data structure that stores data in key-value pairs. It relates to dictionaries in Python because it uses the hash table application i.e key- value pairs to store content, where keys are immutable.\n",
        "\n",
        "\n",
        "\n",
        "---\n",
        "\n",
        "\n",
        "Q9. Can lists contain different data types in Python?\n",
        "\n",
        "A9. Yes, lists can contain different data types like strings, integer, float, boolean, other lists,etc.\n",
        "\n",
        "\n",
        "\n",
        "---\n",
        "\n",
        "\n",
        "Q10. Explain why strings are immutable in Python.\n",
        "\n",
        "A10.Strings are immutable in python because immutability make sure they have same hash value throughout their life because of which they can be used as keys in dictionaries- keys are immutable. Strings can act as elements of sets which are immutable but set itself is mutable.\n",
        "\n",
        "\n",
        "\n",
        "\n",
        "\n",
        "---\n",
        "\n",
        "\n",
        "\n"
      ],
      "metadata": {
        "id": "6S2un9O_BG6L"
      }
    },
    {
      "cell_type": "markdown",
      "source": [
        "Q11.\tWhat advantages do dictionaries offer over lists for certain tasks?\n",
        "\n",
        "A11. Dictionaries store data as key-value pairs, allowing values to be accessed using unique keys. In contrast, lists store elements in a sequential order, and values are retrieved by their index. The uniqueness of dictionary keys ensures there are no duplicate identifiers, preventing ambiguity. Lists, however, allow duplicates, which can make data retrieval less straightforward and potentially confusing. Dictionaries are more suitable when you need to associate values with unique, meaningful keys.\n",
        "\n",
        "\n",
        "---\n",
        "\n",
        "\n",
        "Q12.\tDescribe a scenario where using a tuple would be preferable over a list.\n",
        "\n",
        "A12. A tuple, being an immutable and ordered collection of elements, is ideal for scenarios where the data must remain unchanged compared to lists which is mutable. For example, tuples are well-suited for storing a person's name and Aadhaar number or representing the latitude and longitude coordinates of a geographic location.\n",
        "\n",
        "\n",
        "---\n",
        "\n",
        "\n",
        "Q13.\tHow do sets handle duplicate values in Python?\n",
        "\n",
        "A13. Sets are unordered collection of unique elements. When duplicate values are provided as input, the set automatically removes the duplicates, ensuring that only unique values are retained.\n",
        "\n",
        "\n",
        "---\n",
        "\n",
        "\n",
        "Q14.\tHow does the \"in\" keyword work differently for lists and dictionaries?\n",
        "\n",
        "A14.The \"in\" keyword checks for the value in lists and involves a linear search through the list. While, in dictionary the \"in\" keyword checks the \"keys\" exist or not and then pulls out the value connected to the key.\n",
        "\n",
        "---\n",
        "\n",
        "\n",
        "Q15.\tCan you modify the elements of a tuple? Explain why or why not.\n",
        "\n",
        "A15. Tuples are immutable and ordered collections of elements, meaning that once a tuple is created, its elements cannot be modified. This immutability ensures data integrity and prevents accidental changes to the tuple's content.\n",
        "\n",
        "\n",
        "---\n",
        "\n",
        "\n",
        "\n",
        "Q16.\tWhat is a nested dictionary, and give an example of its use case?\n",
        "\n",
        "A16. A nested dictionary is a dictionary where some of its values are themselves dictionaries. For example, in stores- product id as keys we can store values of the product like its name, brand, price, warranty,etc.\n",
        "\n",
        "d={001:{\"name\":\"pan\",\"price\":500,\"brand\":\"prestige\",\"warranty\":\"2 years\"},\n",
        "002:{\"name\":\"cooker\",\"price\":5400,\"brand\":\"rayon\",\"warranty\":\"3 years\"}}\n",
        "\n",
        "\n",
        "---\n",
        "\n",
        "\n",
        "\n",
        "Q17.\tDescribe the time complexity of accessing elements in a dictionary.\n",
        "\n",
        "A17. In dictionary, values are stored in key-value pairs. Less time is required to access the value because of the use of unique and immutable keys ensuring efficient indexing and retrieval.\n",
        "\n",
        "\n",
        "---\n",
        "\n",
        "\n",
        "Q18.\tIn what situations are lists preferred over dictionaries?\n",
        "\n",
        "A18. Lists are preferred over dictionaries in situations where ordering, index-based access, and the possibility of duplicate values are needed.Also, using lists for slicing and iterative capabilities.\n",
        "\n",
        "\n",
        "---\n",
        "\n",
        "\n",
        "Q19.\tWhy are dictionaries considered unordered, and how does that affect data retrieval?\n",
        "\n",
        "A19. Dictionaries are considered unordered as it stores value based on key- value pair and not on index or position of the value. Earlier to Python 3.7 version, the output came out unordered. Data retrieval is based on keys which are unique and immutable. The user would have to know the keys to retrive data than index or position.\n",
        "\n",
        "\n",
        "\n",
        "---\n",
        "\n",
        "\n",
        "Q20.\tExplain the difference between a list and a dictionary in terms of data retrieval.\n",
        "\n",
        "A20. A list is an ordered and mutable data structure, where data retrieval is based on index. In contrast, a dictionary stores data as key-value pairs, and data retrieval is based on keys, which are immutable and unique."
      ],
      "metadata": {
        "id": "-5eQKNs4dLLV"
      }
    },
    {
      "cell_type": "code",
      "execution_count": null,
      "metadata": {
        "colab": {
          "base_uri": "https://localhost:8080/"
        },
        "id": "HbxCRtp9AzaP",
        "outputId": "bf4a0987-4736-4f79-eead-5ffc6645964b"
      },
      "outputs": [
        {
          "output_type": "stream",
          "name": "stdout",
          "text": [
            "Please enter your name: Iola\n",
            "My name is Iola\n"
          ]
        }
      ],
      "source": [
        "#Q1.\tWrite a code to create a string with your name and print it.\n",
        "name=input(\"Please enter your name: \")\n",
        "print(f\"My name is {name}\")"
      ]
    },
    {
      "cell_type": "code",
      "source": [
        "#Q2.\tWrite a code to find the length of the string \"Hello World\".\n",
        "a= len(\"Hello World\")\n",
        "print(\"Then length of the string is \",a)"
      ],
      "metadata": {
        "colab": {
          "base_uri": "https://localhost:8080/"
        },
        "id": "fOMfSaysDkwE",
        "outputId": "101b9b21-10e7-4f7c-ecc3-ff36af29abaa"
      },
      "execution_count": null,
      "outputs": [
        {
          "output_type": "stream",
          "name": "stdout",
          "text": [
            "Then length of the string is  11\n"
          ]
        }
      ]
    },
    {
      "cell_type": "code",
      "source": [
        "#Q3.\tWrite a code to slice the first 3 characters from the string \"Python Programming\".\n",
        "a= \"Python Programming\"\n",
        "a[0:3:1]"
      ],
      "metadata": {
        "colab": {
          "base_uri": "https://localhost:8080/",
          "height": 35
        },
        "id": "DGVhCnPYDk8y",
        "outputId": "93818c8c-5775-4e79-ca76-bf7a62e37cb7"
      },
      "execution_count": null,
      "outputs": [
        {
          "output_type": "execute_result",
          "data": {
            "text/plain": [
              "'Pyt'"
            ],
            "application/vnd.google.colaboratory.intrinsic+json": {
              "type": "string"
            }
          },
          "metadata": {},
          "execution_count": 10
        }
      ]
    },
    {
      "cell_type": "code",
      "source": [
        "#Q4.\tWrite a code to convert the string \"hello\" to uppercase.\n",
        "a=\"hello\"\n",
        "a.upper()"
      ],
      "metadata": {
        "colab": {
          "base_uri": "https://localhost:8080/",
          "height": 35
        },
        "id": "EQSLruTqDlIU",
        "outputId": "792813d6-a145-462c-c78f-b224c3f1f015"
      },
      "execution_count": null,
      "outputs": [
        {
          "output_type": "execute_result",
          "data": {
            "text/plain": [
              "'HELLO'"
            ],
            "application/vnd.google.colaboratory.intrinsic+json": {
              "type": "string"
            }
          },
          "metadata": {},
          "execution_count": 11
        }
      ]
    },
    {
      "cell_type": "code",
      "source": [
        "#Q5.\tWrite a code to replace the word \"apple\" with \"orange\" in the string \"I like apple\".\n",
        "a=\"I like apple\"\n",
        "a.replace('apple','orange')"
      ],
      "metadata": {
        "colab": {
          "base_uri": "https://localhost:8080/",
          "height": 35
        },
        "id": "eblg570FDmzs",
        "outputId": "c1750325-bb3a-4b3a-a6c3-ead5e5282502"
      },
      "execution_count": null,
      "outputs": [
        {
          "output_type": "execute_result",
          "data": {
            "text/plain": [
              "'I like orange'"
            ],
            "application/vnd.google.colaboratory.intrinsic+json": {
              "type": "string"
            }
          },
          "metadata": {},
          "execution_count": 12
        }
      ]
    },
    {
      "cell_type": "code",
      "source": [
        "#Q6.\tWrite a code to create a list with numbers l to 5 and print it.\n",
        "\n",
        "a=[]\n",
        "for i in range(1,6):\n",
        "    a.append(i)\n",
        "print(a)"
      ],
      "metadata": {
        "colab": {
          "base_uri": "https://localhost:8080/"
        },
        "id": "jrKWwSyUDm88",
        "outputId": "9d504b48-9806-482c-9932-53a05b1c1a8a"
      },
      "execution_count": null,
      "outputs": [
        {
          "output_type": "stream",
          "name": "stdout",
          "text": [
            "[1, 2, 3, 4, 5]\n"
          ]
        }
      ]
    },
    {
      "cell_type": "code",
      "source": [
        "#or the other method\n",
        "a=list(range(1,6))\n",
        "print(a)"
      ],
      "metadata": {
        "colab": {
          "base_uri": "https://localhost:8080/"
        },
        "id": "bIKkK9EouL8H",
        "outputId": "24061a28-a076-4b09-9ee5-bbb3608fc560"
      },
      "execution_count": null,
      "outputs": [
        {
          "output_type": "stream",
          "name": "stdout",
          "text": [
            "[1, 2, 3, 4, 5]\n"
          ]
        }
      ]
    },
    {
      "cell_type": "code",
      "source": [
        "#Q7.\tWrite a code to append the number 10 to the list [1, 2, 3, 4].\n",
        "a=[1,2,3,4]\n",
        "a.append(10)\n",
        "a"
      ],
      "metadata": {
        "colab": {
          "base_uri": "https://localhost:8080/"
        },
        "id": "dDCZguEKEGLh",
        "outputId": "2a3fdc5d-01e5-4dc7-fd79-f380d5b3e471"
      },
      "execution_count": null,
      "outputs": [
        {
          "output_type": "execute_result",
          "data": {
            "text/plain": [
              "[1, 2, 3, 4, 10]"
            ]
          },
          "metadata": {},
          "execution_count": 27
        }
      ]
    },
    {
      "cell_type": "code",
      "source": [
        "#Q8.\tWrite a code to remove the number 3 from the list [1, 2, 3, 4, 5].\n",
        "a=[1,2,3,4,5]\n",
        "a.remove(3)\n",
        "a"
      ],
      "metadata": {
        "colab": {
          "base_uri": "https://localhost:8080/"
        },
        "id": "JfnOZQrzEXCd",
        "outputId": "63ee6909-7ee7-4691-e177-2071944e9160"
      },
      "execution_count": null,
      "outputs": [
        {
          "output_type": "execute_result",
          "data": {
            "text/plain": [
              "[1, 2, 4, 5]"
            ]
          },
          "metadata": {},
          "execution_count": 4
        }
      ]
    },
    {
      "cell_type": "code",
      "source": [
        "#other method that can be used pop\n",
        "a=[1,2,3,4,5]\n",
        "a.pop(2)\n",
        "a"
      ],
      "metadata": {
        "colab": {
          "base_uri": "https://localhost:8080/"
        },
        "id": "6vBxfhqCqkTc",
        "outputId": "bbb37ccb-243e-47ba-efef-9971a9107da2"
      },
      "execution_count": null,
      "outputs": [
        {
          "output_type": "execute_result",
          "data": {
            "text/plain": [
              "[1, 2, 4, 5]"
            ]
          },
          "metadata": {},
          "execution_count": 6
        }
      ]
    },
    {
      "cell_type": "code",
      "source": [
        "#Q9.\tWrite a code to access the second element in the list ['a', 'b', 'c', 'd'].\n",
        "list1=['a','b','c','d']\n",
        "list1[1]"
      ],
      "metadata": {
        "colab": {
          "base_uri": "https://localhost:8080/",
          "height": 35
        },
        "id": "LAWeOzQZEXK8",
        "outputId": "ff87b715-011a-466a-ad28-389be5efa7a1"
      },
      "execution_count": null,
      "outputs": [
        {
          "output_type": "execute_result",
          "data": {
            "text/plain": [
              "'b'"
            ],
            "application/vnd.google.colaboratory.intrinsic+json": {
              "type": "string"
            }
          },
          "metadata": {},
          "execution_count": 31
        }
      ]
    },
    {
      "cell_type": "code",
      "source": [
        "#Q10.\tWrite a code to reverse the list [10, 20, 30, 40, 50 ].\n",
        "a=[10,20,30,40,50]\n",
        "\n",
        "[a[-i] for i in range(1,6)]"
      ],
      "metadata": {
        "colab": {
          "base_uri": "https://localhost:8080/"
        },
        "id": "qdcL7YStEXT0",
        "outputId": "a84f6784-d1a1-4e65-a808-a3345a0835b3"
      },
      "execution_count": null,
      "outputs": [
        {
          "output_type": "execute_result",
          "data": {
            "text/plain": [
              "[50, 40, 30, 20, 10]"
            ]
          },
          "metadata": {},
          "execution_count": 1
        }
      ]
    },
    {
      "cell_type": "code",
      "source": [
        "#Q11.Write a code to create a tuple with the elements 10, 20, 30 and print it.\n",
        "\n",
        "a=(10,20,30)\n",
        "print(a)"
      ],
      "metadata": {
        "colab": {
          "base_uri": "https://localhost:8080/"
        },
        "id": "0upmepL8rMxt",
        "outputId": "44d0cbf1-b1a7-4288-d986-fcd1843c702a"
      },
      "execution_count": null,
      "outputs": [
        {
          "output_type": "stream",
          "name": "stdout",
          "text": [
            "(10, 20, 30)\n"
          ]
        }
      ]
    },
    {
      "cell_type": "code",
      "source": [
        "#Q12.\tWrite a code to access the first element of the tuple ('apple', banana', 'cherry').\n",
        "\n",
        "b=('apple', 'banana', 'cherry')\n",
        "b[0]"
      ],
      "metadata": {
        "colab": {
          "base_uri": "https://localhost:8080/",
          "height": 35
        },
        "id": "nrk8wkE3uCcf",
        "outputId": "9c3e6c9d-70a4-4a92-8961-e161128cd490"
      },
      "execution_count": null,
      "outputs": [
        {
          "output_type": "execute_result",
          "data": {
            "text/plain": [
              "'apple'"
            ],
            "application/vnd.google.colaboratory.intrinsic+json": {
              "type": "string"
            }
          },
          "metadata": {},
          "execution_count": 22
        }
      ]
    },
    {
      "cell_type": "code",
      "source": [
        "#Q13.\tWrite a code to count how many times the number 2 appears in the tuple (1, 2, 3, 2, 4, 2).\n",
        "\n",
        "a= (1, 2, 3, 2, 4, 2)\n",
        "a.count(2)"
      ],
      "metadata": {
        "colab": {
          "base_uri": "https://localhost:8080/"
        },
        "id": "I2vBbvgR86YP",
        "outputId": "22b64f62-f467-4370-8401-4282d5490f0e"
      },
      "execution_count": null,
      "outputs": [
        {
          "output_type": "execute_result",
          "data": {
            "text/plain": [
              "3"
            ]
          },
          "metadata": {},
          "execution_count": 23
        }
      ]
    },
    {
      "cell_type": "code",
      "source": [
        "#Q14.\tWrite a code to find the index of the element \"cat\" in the tuple ('dog', 'cat', 'rabbit').\n",
        "\n",
        "a=('dog', 'cat', 'rabbit')\n",
        "a.index('cat')"
      ],
      "metadata": {
        "colab": {
          "base_uri": "https://localhost:8080/"
        },
        "id": "BxaVQ8uP86dn",
        "outputId": "81414247-3ae8-4ce0-e90d-ed459d68a310"
      },
      "execution_count": null,
      "outputs": [
        {
          "output_type": "execute_result",
          "data": {
            "text/plain": [
              "1"
            ]
          },
          "metadata": {},
          "execution_count": 24
        }
      ]
    },
    {
      "cell_type": "code",
      "source": [
        "#Q15.\tWrite a code to check if the element \"banana\" is in the tuple ('apple', 'orange', 'banana').\n",
        "\n",
        "a= ('apple', 'orange', 'banana')\n",
        "\n",
        "'banana' in a"
      ],
      "metadata": {
        "colab": {
          "base_uri": "https://localhost:8080/"
        },
        "id": "UDlf3IQj9fzi",
        "outputId": "d023c383-4f93-4848-9bc3-6a146a9eb75c"
      },
      "execution_count": null,
      "outputs": [
        {
          "output_type": "execute_result",
          "data": {
            "text/plain": [
              "True"
            ]
          },
          "metadata": {},
          "execution_count": 25
        }
      ]
    },
    {
      "cell_type": "code",
      "source": [
        "#Q16.\tWrite a code to create a set with the elements l, 2, 3, 4, 5 and print it.\n",
        "\n",
        "a={1,2,3,4,5}\n",
        "print(a)\n"
      ],
      "metadata": {
        "id": "tbUU6xze9rXE",
        "colab": {
          "base_uri": "https://localhost:8080/"
        },
        "outputId": "c09d2a7b-80c3-4968-9a48-8f51c6e27bbb"
      },
      "execution_count": null,
      "outputs": [
        {
          "output_type": "stream",
          "name": "stdout",
          "text": [
            "{1, 2, 3, 4, 5}\n"
          ]
        }
      ]
    },
    {
      "cell_type": "code",
      "source": [
        "#Q17.\tWrite a code to add the element 6 to the set {1, 2, 3, 4}.\n",
        "\n",
        "a={1,2,3,4}\n",
        "a.add(6)\n",
        "a"
      ],
      "metadata": {
        "id": "QG7KtE7C977j",
        "colab": {
          "base_uri": "https://localhost:8080/"
        },
        "outputId": "e8dca49b-67b6-44ca-b21d-bc9eef53ed06"
      },
      "execution_count": null,
      "outputs": [
        {
          "output_type": "execute_result",
          "data": {
            "text/plain": [
              "{1, 2, 3, 4, 6}"
            ]
          },
          "metadata": {},
          "execution_count": 6
        }
      ]
    },
    {
      "cell_type": "code",
      "source": [
        "#Q18.\tWrite a code to create a tuple with the elements 10, 20, 30 and print it.\n",
        "\n",
        "a=(10,20,30)\n",
        "print(a)"
      ],
      "metadata": {
        "id": "mJ2fhhQy97-h",
        "colab": {
          "base_uri": "https://localhost:8080/"
        },
        "outputId": "904e8599-0467-4239-d0f8-55b45b75939a"
      },
      "execution_count": null,
      "outputs": [
        {
          "output_type": "stream",
          "name": "stdout",
          "text": [
            "(10, 20, 30)\n"
          ]
        }
      ]
    },
    {
      "cell_type": "code",
      "source": [
        "#Q19.\tWrite a code to access the first element of the tuple ('apple', banana', 'cherry').\n",
        "\n",
        "a=('apple', 'banana', 'cherry')\n",
        "a[0]"
      ],
      "metadata": {
        "colab": {
          "base_uri": "https://localhost:8080/",
          "height": 35
        },
        "id": "1t7ZtXJh98GA",
        "outputId": "e6d6a558-f9e8-4d73-d322-1f65e46600a6"
      },
      "execution_count": null,
      "outputs": [
        {
          "output_type": "execute_result",
          "data": {
            "text/plain": [
              "'apple'"
            ],
            "application/vnd.google.colaboratory.intrinsic+json": {
              "type": "string"
            }
          },
          "metadata": {},
          "execution_count": 27
        }
      ]
    },
    {
      "cell_type": "code",
      "source": [
        "#Q20.\tWrite a code to count how many times the number 2 appears in the tuple (1, 2, 3, 2, 4, 2).\n",
        "\n",
        "a=(1, 2, 3, 2, 4, 2)\n",
        "a.count(2)"
      ],
      "metadata": {
        "colab": {
          "base_uri": "https://localhost:8080/"
        },
        "id": "vlaDiJDR_fdu",
        "outputId": "36f1d3b7-f35b-4fc4-a6b4-37373c813ca2"
      },
      "execution_count": null,
      "outputs": [
        {
          "output_type": "execute_result",
          "data": {
            "text/plain": [
              "3"
            ]
          },
          "metadata": {},
          "execution_count": 28
        }
      ]
    },
    {
      "cell_type": "code",
      "source": [
        "#Q21.\tWrite a code to find the index of the element \"cat\" in the tuple ('dog', 'cat', 'rabbit').\n",
        "a=('dog', 'cat', 'rabbit')\n",
        "a.index('cat')"
      ],
      "metadata": {
        "colab": {
          "base_uri": "https://localhost:8080/"
        },
        "id": "igaUXPfW_pbk",
        "outputId": "6ce02c57-4601-4b49-9dba-765e9a9aa49d"
      },
      "execution_count": null,
      "outputs": [
        {
          "output_type": "execute_result",
          "data": {
            "text/plain": [
              "1"
            ]
          },
          "metadata": {},
          "execution_count": 29
        }
      ]
    },
    {
      "cell_type": "code",
      "source": [
        "#Q22.\tWrite a code to check if the element \"banana\" is in the tuple ('apple', 'orange', banana').\n",
        "a= ('apple', 'orange', 'banana')\n",
        "\n",
        "'banana' in a"
      ],
      "metadata": {
        "colab": {
          "base_uri": "https://localhost:8080/"
        },
        "id": "3jFDDM57_td3",
        "outputId": "7fddde84-64b5-4ac0-cc75-3b4fbf70a30e"
      },
      "execution_count": null,
      "outputs": [
        {
          "output_type": "execute_result",
          "data": {
            "text/plain": [
              "True"
            ]
          },
          "metadata": {},
          "execution_count": 31
        }
      ]
    },
    {
      "cell_type": "code",
      "source": [
        "#Q23.\tWrite a code to create a set with the elements l, 2, 3, 4, 5 and print it.\n",
        "\n",
        "a={1,2,3,4,5}\n",
        "print(a)"
      ],
      "metadata": {
        "id": "Uzq1MZ3r_tpB",
        "colab": {
          "base_uri": "https://localhost:8080/"
        },
        "outputId": "b30f60cb-99aa-4a81-f454-869724dcb44d"
      },
      "execution_count": null,
      "outputs": [
        {
          "output_type": "stream",
          "name": "stdout",
          "text": [
            "{1, 2, 3, 4, 5}\n"
          ]
        }
      ]
    },
    {
      "cell_type": "code",
      "source": [
        "#Q24.\tWrite a code to add the element 6 to the set {1, 2, 3, 4}.\n",
        "\n",
        "a={1,2,3,4}\n",
        "a.add(6)\n",
        "a"
      ],
      "metadata": {
        "id": "EkgYSj3x_t9P",
        "colab": {
          "base_uri": "https://localhost:8080/"
        },
        "outputId": "06ed3490-7bb2-4d1c-d931-d0d601c20c03"
      },
      "execution_count": null,
      "outputs": [
        {
          "output_type": "execute_result",
          "data": {
            "text/plain": [
              "{1, 2, 3, 4, 6}"
            ]
          },
          "metadata": {},
          "execution_count": 21
        }
      ]
    },
    {
      "cell_type": "code",
      "source": [],
      "metadata": {
        "id": "25kn3E1A9uz3"
      },
      "execution_count": null,
      "outputs": []
    }
  ]
}